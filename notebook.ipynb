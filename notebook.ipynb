{
 "cells": [
  {
   "cell_type": "markdown",
   "metadata": {},
   "source": [
    "# Business Understanding"
   ]
  },
  {
   "cell_type": "markdown",
   "metadata": {},
   "source": [
    "The company is expanding into new industries, including purchasing and operating airplanes for commercial and private enterprises.  The company is unfamiliar with the potential risks of different types of aircraft, so here we are looking to determine which aircraft present the lowest risk in order to begin the new business endeavor."
   ]
  },
  {
   "cell_type": "markdown",
   "metadata": {},
   "source": [
    "# Data Understanding"
   ]
  },
  {
   "cell_type": "markdown",
   "metadata": {},
   "source": [
    "Here we are working with a dataset provided by the National Transportation Safety Board which includes aviation accident data from 1962 through 2003 about civil aviation accidents and selected incidents in the United States and international waters.  Every incident has a unique event ID, and the data files provide the dates and types of each event, as well as other pertinent safety information (e.g. aircraft make and model, number of injuries)."
   ]
  },
  {
   "cell_type": "code",
   "execution_count": 81,
   "metadata": {},
   "outputs": [],
   "source": [
    "import pandas as pd\n",
    "import numpy as np"
   ]
  },
  {
   "cell_type": "code",
   "execution_count": 82,
   "metadata": {},
   "outputs": [],
   "source": [
    "data = pd.read_csv('./data/Aviation_Data.csv', low_memory=False)"
   ]
  },
  {
   "cell_type": "code",
   "execution_count": 83,
   "metadata": {},
   "outputs": [
    {
     "name": "stdout",
     "output_type": "stream",
     "text": [
      "<class 'pandas.core.frame.DataFrame'>\n",
      "RangeIndex: 90348 entries, 0 to 90347\n",
      "Data columns (total 31 columns):\n",
      " #   Column                  Non-Null Count  Dtype  \n",
      "---  ------                  --------------  -----  \n",
      " 0   Event.Id                88889 non-null  object \n",
      " 1   Investigation.Type      90348 non-null  object \n",
      " 2   Accident.Number         88889 non-null  object \n",
      " 3   Event.Date              88889 non-null  object \n",
      " 4   Location                88837 non-null  object \n",
      " 5   Country                 88663 non-null  object \n",
      " 6   Latitude                34382 non-null  object \n",
      " 7   Longitude               34373 non-null  object \n",
      " 8   Airport.Code            50249 non-null  object \n",
      " 9   Airport.Name            52790 non-null  object \n",
      " 10  Injury.Severity         87889 non-null  object \n",
      " 11  Aircraft.damage         85695 non-null  object \n",
      " 12  Aircraft.Category       32287 non-null  object \n",
      " 13  Registration.Number     87572 non-null  object \n",
      " 14  Make                    88826 non-null  object \n",
      " 15  Model                   88797 non-null  object \n",
      " 16  Amateur.Built           88787 non-null  object \n",
      " 17  Number.of.Engines       82805 non-null  float64\n",
      " 18  Engine.Type             81812 non-null  object \n",
      " 19  FAR.Description         32023 non-null  object \n",
      " 20  Schedule                12582 non-null  object \n",
      " 21  Purpose.of.flight       82697 non-null  object \n",
      " 22  Air.carrier             16648 non-null  object \n",
      " 23  Total.Fatal.Injuries    77488 non-null  float64\n",
      " 24  Total.Serious.Injuries  76379 non-null  float64\n",
      " 25  Total.Minor.Injuries    76956 non-null  float64\n",
      " 26  Total.Uninjured         82977 non-null  float64\n",
      " 27  Weather.Condition       84397 non-null  object \n",
      " 28  Broad.phase.of.flight   61724 non-null  object \n",
      " 29  Report.Status           82508 non-null  object \n",
      " 30  Publication.Date        73659 non-null  object \n",
      "dtypes: float64(5), object(26)\n",
      "memory usage: 21.4+ MB\n"
     ]
    }
   ],
   "source": [
    "data.info()"
   ]
  },
  {
   "cell_type": "code",
   "execution_count": 84,
   "metadata": {},
   "outputs": [
    {
     "data": {
      "text/html": [
       "<div>\n",
       "<style scoped>\n",
       "    .dataframe tbody tr th:only-of-type {\n",
       "        vertical-align: middle;\n",
       "    }\n",
       "\n",
       "    .dataframe tbody tr th {\n",
       "        vertical-align: top;\n",
       "    }\n",
       "\n",
       "    .dataframe thead th {\n",
       "        text-align: right;\n",
       "    }\n",
       "</style>\n",
       "<table border=\"1\" class=\"dataframe\">\n",
       "  <thead>\n",
       "    <tr style=\"text-align: right;\">\n",
       "      <th></th>\n",
       "      <th>Event.Id</th>\n",
       "      <th>Investigation.Type</th>\n",
       "      <th>Accident.Number</th>\n",
       "      <th>Event.Date</th>\n",
       "      <th>Location</th>\n",
       "      <th>Country</th>\n",
       "      <th>Latitude</th>\n",
       "      <th>Longitude</th>\n",
       "      <th>Airport.Code</th>\n",
       "      <th>Airport.Name</th>\n",
       "      <th>...</th>\n",
       "      <th>Purpose.of.flight</th>\n",
       "      <th>Air.carrier</th>\n",
       "      <th>Total.Fatal.Injuries</th>\n",
       "      <th>Total.Serious.Injuries</th>\n",
       "      <th>Total.Minor.Injuries</th>\n",
       "      <th>Total.Uninjured</th>\n",
       "      <th>Weather.Condition</th>\n",
       "      <th>Broad.phase.of.flight</th>\n",
       "      <th>Report.Status</th>\n",
       "      <th>Publication.Date</th>\n",
       "    </tr>\n",
       "  </thead>\n",
       "  <tbody>\n",
       "    <tr>\n",
       "      <th>0</th>\n",
       "      <td>20001218X45444</td>\n",
       "      <td>Accident</td>\n",
       "      <td>SEA87LA080</td>\n",
       "      <td>1948-10-24</td>\n",
       "      <td>MOOSE CREEK, ID</td>\n",
       "      <td>United States</td>\n",
       "      <td>NaN</td>\n",
       "      <td>NaN</td>\n",
       "      <td>NaN</td>\n",
       "      <td>NaN</td>\n",
       "      <td>...</td>\n",
       "      <td>Personal</td>\n",
       "      <td>NaN</td>\n",
       "      <td>2.0</td>\n",
       "      <td>0.0</td>\n",
       "      <td>0.0</td>\n",
       "      <td>0.0</td>\n",
       "      <td>UNK</td>\n",
       "      <td>Cruise</td>\n",
       "      <td>Probable Cause</td>\n",
       "      <td>NaN</td>\n",
       "    </tr>\n",
       "    <tr>\n",
       "      <th>1</th>\n",
       "      <td>20001218X45447</td>\n",
       "      <td>Accident</td>\n",
       "      <td>LAX94LA336</td>\n",
       "      <td>1962-07-19</td>\n",
       "      <td>BRIDGEPORT, CA</td>\n",
       "      <td>United States</td>\n",
       "      <td>NaN</td>\n",
       "      <td>NaN</td>\n",
       "      <td>NaN</td>\n",
       "      <td>NaN</td>\n",
       "      <td>...</td>\n",
       "      <td>Personal</td>\n",
       "      <td>NaN</td>\n",
       "      <td>4.0</td>\n",
       "      <td>0.0</td>\n",
       "      <td>0.0</td>\n",
       "      <td>0.0</td>\n",
       "      <td>UNK</td>\n",
       "      <td>Unknown</td>\n",
       "      <td>Probable Cause</td>\n",
       "      <td>19-09-1996</td>\n",
       "    </tr>\n",
       "    <tr>\n",
       "      <th>2</th>\n",
       "      <td>20061025X01555</td>\n",
       "      <td>Accident</td>\n",
       "      <td>NYC07LA005</td>\n",
       "      <td>1974-08-30</td>\n",
       "      <td>Saltville, VA</td>\n",
       "      <td>United States</td>\n",
       "      <td>36.922223</td>\n",
       "      <td>-81.878056</td>\n",
       "      <td>NaN</td>\n",
       "      <td>NaN</td>\n",
       "      <td>...</td>\n",
       "      <td>Personal</td>\n",
       "      <td>NaN</td>\n",
       "      <td>3.0</td>\n",
       "      <td>NaN</td>\n",
       "      <td>NaN</td>\n",
       "      <td>NaN</td>\n",
       "      <td>IMC</td>\n",
       "      <td>Cruise</td>\n",
       "      <td>Probable Cause</td>\n",
       "      <td>26-02-2007</td>\n",
       "    </tr>\n",
       "    <tr>\n",
       "      <th>3</th>\n",
       "      <td>20001218X45448</td>\n",
       "      <td>Accident</td>\n",
       "      <td>LAX96LA321</td>\n",
       "      <td>1977-06-19</td>\n",
       "      <td>EUREKA, CA</td>\n",
       "      <td>United States</td>\n",
       "      <td>NaN</td>\n",
       "      <td>NaN</td>\n",
       "      <td>NaN</td>\n",
       "      <td>NaN</td>\n",
       "      <td>...</td>\n",
       "      <td>Personal</td>\n",
       "      <td>NaN</td>\n",
       "      <td>2.0</td>\n",
       "      <td>0.0</td>\n",
       "      <td>0.0</td>\n",
       "      <td>0.0</td>\n",
       "      <td>IMC</td>\n",
       "      <td>Cruise</td>\n",
       "      <td>Probable Cause</td>\n",
       "      <td>12-09-2000</td>\n",
       "    </tr>\n",
       "    <tr>\n",
       "      <th>4</th>\n",
       "      <td>20041105X01764</td>\n",
       "      <td>Accident</td>\n",
       "      <td>CHI79FA064</td>\n",
       "      <td>1979-08-02</td>\n",
       "      <td>Canton, OH</td>\n",
       "      <td>United States</td>\n",
       "      <td>NaN</td>\n",
       "      <td>NaN</td>\n",
       "      <td>NaN</td>\n",
       "      <td>NaN</td>\n",
       "      <td>...</td>\n",
       "      <td>Personal</td>\n",
       "      <td>NaN</td>\n",
       "      <td>1.0</td>\n",
       "      <td>2.0</td>\n",
       "      <td>NaN</td>\n",
       "      <td>0.0</td>\n",
       "      <td>VMC</td>\n",
       "      <td>Approach</td>\n",
       "      <td>Probable Cause</td>\n",
       "      <td>16-04-1980</td>\n",
       "    </tr>\n",
       "  </tbody>\n",
       "</table>\n",
       "<p>5 rows × 31 columns</p>\n",
       "</div>"
      ],
      "text/plain": [
       "         Event.Id Investigation.Type Accident.Number  Event.Date  \\\n",
       "0  20001218X45444           Accident      SEA87LA080  1948-10-24   \n",
       "1  20001218X45447           Accident      LAX94LA336  1962-07-19   \n",
       "2  20061025X01555           Accident      NYC07LA005  1974-08-30   \n",
       "3  20001218X45448           Accident      LAX96LA321  1977-06-19   \n",
       "4  20041105X01764           Accident      CHI79FA064  1979-08-02   \n",
       "\n",
       "          Location        Country   Latitude   Longitude Airport.Code  \\\n",
       "0  MOOSE CREEK, ID  United States        NaN         NaN          NaN   \n",
       "1   BRIDGEPORT, CA  United States        NaN         NaN          NaN   \n",
       "2    Saltville, VA  United States  36.922223  -81.878056          NaN   \n",
       "3       EUREKA, CA  United States        NaN         NaN          NaN   \n",
       "4       Canton, OH  United States        NaN         NaN          NaN   \n",
       "\n",
       "  Airport.Name  ... Purpose.of.flight Air.carrier Total.Fatal.Injuries  \\\n",
       "0          NaN  ...          Personal         NaN                  2.0   \n",
       "1          NaN  ...          Personal         NaN                  4.0   \n",
       "2          NaN  ...          Personal         NaN                  3.0   \n",
       "3          NaN  ...          Personal         NaN                  2.0   \n",
       "4          NaN  ...          Personal         NaN                  1.0   \n",
       "\n",
       "  Total.Serious.Injuries Total.Minor.Injuries Total.Uninjured  \\\n",
       "0                    0.0                  0.0             0.0   \n",
       "1                    0.0                  0.0             0.0   \n",
       "2                    NaN                  NaN             NaN   \n",
       "3                    0.0                  0.0             0.0   \n",
       "4                    2.0                  NaN             0.0   \n",
       "\n",
       "  Weather.Condition  Broad.phase.of.flight   Report.Status Publication.Date  \n",
       "0               UNK                 Cruise  Probable Cause              NaN  \n",
       "1               UNK                Unknown  Probable Cause       19-09-1996  \n",
       "2               IMC                 Cruise  Probable Cause       26-02-2007  \n",
       "3               IMC                 Cruise  Probable Cause       12-09-2000  \n",
       "4               VMC               Approach  Probable Cause       16-04-1980  \n",
       "\n",
       "[5 rows x 31 columns]"
      ]
     },
     "execution_count": 84,
     "metadata": {},
     "output_type": "execute_result"
    }
   ],
   "source": [
    "data.head()"
   ]
  },
  {
   "cell_type": "code",
   "execution_count": 85,
   "metadata": {},
   "outputs": [
    {
     "name": "stderr",
     "output_type": "stream",
     "text": [
      "<ipython-input-85-ab274c447368>:2: FutureWarning: Treating datetime data as categorical rather than numeric in `.describe` is deprecated and will be removed in a future version of pandas. Specify `datetime_is_numeric=True` to silence this warning and adopt the future behavior now.\n",
      "  data['Event Date'].describe()\n"
     ]
    },
    {
     "data": {
      "text/plain": [
       "count                   88889\n",
       "unique                  14782\n",
       "top       1982-05-16 00:00:00\n",
       "freq                       25\n",
       "first     1948-10-24 00:00:00\n",
       "last      2022-12-29 00:00:00\n",
       "Name: Event Date, dtype: object"
      ]
     },
     "execution_count": 85,
     "metadata": {},
     "output_type": "execute_result"
    }
   ],
   "source": [
    "data['Event Date'] = pd.to_datetime(data['Event.Date'])\n",
    "data['Event Date'].describe()"
   ]
  },
  {
   "cell_type": "code",
   "execution_count": 87,
   "metadata": {},
   "outputs": [
    {
     "data": {
      "text/plain": [
       "Cessna              22227\n",
       "Piper               12029\n",
       "CESSNA               4922\n",
       "Beech                4330\n",
       "PIPER                2841\n",
       "                    ...  \n",
       "SCOTT                   1\n",
       "Green-fowler            1\n",
       "David Mcelhannon        1\n",
       "SHIVER                  1\n",
       "CONDOR                  1\n",
       "Name: Make, Length: 8237, dtype: int64"
      ]
     },
     "execution_count": 87,
     "metadata": {},
     "output_type": "execute_result"
    }
   ],
   "source": [
    "data['Make'].value_counts()"
   ]
  },
  {
   "cell_type": "code",
   "execution_count": 88,
   "metadata": {},
   "outputs": [
    {
     "data": {
      "text/plain": [
       "152          2367\n",
       "172          1756\n",
       "172N         1164\n",
       "PA-28-140     932\n",
       "150           829\n",
       "             ... \n",
       "TP206D          1\n",
       "737 - 8FE       1\n",
       "BE-A23-19       1\n",
       "SA365-N1        1\n",
       "LAZOR 170       1\n",
       "Name: Model, Length: 12318, dtype: int64"
      ]
     },
     "execution_count": 88,
     "metadata": {},
     "output_type": "execute_result"
    }
   ],
   "source": [
    "data['Model'].value_counts()"
   ]
  },
  {
   "cell_type": "code",
   "execution_count": 89,
   "metadata": {},
   "outputs": [
    {
     "data": {
      "text/plain": [
       "Non-Fatal     67357\n",
       "Fatal(1)       6167\n",
       "Fatal          5262\n",
       "Fatal(2)       3711\n",
       "Incident       2219\n",
       "              ...  \n",
       "Fatal(229)        1\n",
       "Fatal(153)        1\n",
       "Fatal(123)        1\n",
       "Fatal(110)        1\n",
       "Fatal(57)         1\n",
       "Name: Injury.Severity, Length: 109, dtype: int64"
      ]
     },
     "execution_count": 89,
     "metadata": {},
     "output_type": "execute_result"
    }
   ],
   "source": [
    "data['Injury.Severity'].value_counts()"
   ]
  },
  {
   "cell_type": "code",
   "execution_count": 91,
   "metadata": {},
   "outputs": [
    {
     "data": {
      "text/plain": [
       "1.0    69582\n",
       "2.0    11079\n",
       "0.0     1226\n",
       "3.0      483\n",
       "4.0      431\n",
       "8.0        3\n",
       "6.0        1\n",
       "Name: Number.of.Engines, dtype: int64"
      ]
     },
     "execution_count": 91,
     "metadata": {},
     "output_type": "execute_result"
    }
   ],
   "source": [
    "data['Number.of.Engines'].value_counts()"
   ]
  },
  {
   "cell_type": "code",
   "execution_count": 92,
   "metadata": {},
   "outputs": [
    {
     "data": {
      "text/plain": [
       "Accident      85015\n",
       "Incident       3874\n",
       "25-09-2020      702\n",
       "26-09-2020       60\n",
       "02-02-2021       39\n",
       "              ...  \n",
       "05-04-2021        1\n",
       "03-11-2020        1\n",
       "04-03-2021        1\n",
       "11-02-2021        1\n",
       "05-01-2021        1\n",
       "Name: Investigation.Type, Length: 71, dtype: int64"
      ]
     },
     "execution_count": 92,
     "metadata": {},
     "output_type": "execute_result"
    }
   ],
   "source": [
    "data['Investigation.Type'].value_counts()"
   ]
  },
  {
   "cell_type": "code",
   "execution_count": 93,
   "metadata": {},
   "outputs": [
    {
     "data": {
      "text/plain": [
       "Airplane             27617\n",
       "Helicopter            3440\n",
       "Glider                 508\n",
       "Balloon                231\n",
       "Gyrocraft              173\n",
       "Weight-Shift           161\n",
       "Powered Parachute       91\n",
       "Ultralight              30\n",
       "Unknown                 14\n",
       "WSFT                     9\n",
       "Powered-Lift             5\n",
       "Blimp                    4\n",
       "UNK                      2\n",
       "Rocket                   1\n",
       "ULTR                     1\n",
       "Name: Aircraft.Category, dtype: int64"
      ]
     },
     "execution_count": 93,
     "metadata": {},
     "output_type": "execute_result"
    }
   ],
   "source": [
    "data['Aircraft.Category'].value_counts()"
   ]
  },
  {
   "cell_type": "code",
   "execution_count": 94,
   "metadata": {},
   "outputs": [
    {
     "data": {
      "text/plain": [
       "No     80312\n",
       "Yes     8475\n",
       "Name: Amateur.Built, dtype: int64"
      ]
     },
     "execution_count": 94,
     "metadata": {},
     "output_type": "execute_result"
    }
   ],
   "source": [
    "data['Amateur.Built'].value_counts()"
   ]
  },
  {
   "cell_type": "code",
   "execution_count": 95,
   "metadata": {},
   "outputs": [
    {
     "data": {
      "text/plain": [
       "091                               18221\n",
       "Part 91: General Aviation          6486\n",
       "NUSN                               1584\n",
       "NUSC                               1013\n",
       "137                                1010\n",
       "135                                 746\n",
       "121                                 679\n",
       "Part 137: Agricultural              437\n",
       "UNK                                 371\n",
       "Part 135: Air Taxi & Commuter       298\n",
       "PUBU                                253\n",
       "129                                 246\n",
       "Part 121: Air Carrier               165\n",
       "133                                 107\n",
       "Part 129: Foreign                   100\n",
       "Non-U.S., Non-Commercial             97\n",
       "Non-U.S., Commercial                 93\n",
       "Part 133: Rotorcraft Ext. Load       32\n",
       "Unknown                              22\n",
       "Public Use                           19\n",
       "091K                                 14\n",
       "ARMF                                  8\n",
       "Part 125: 20+ Pax,6000+ lbs           5\n",
       "125                                   5\n",
       "107                                   4\n",
       "Public Aircraft                       2\n",
       "103                                   2\n",
       "Part 91 Subpart K: Fractional         1\n",
       "Armed Forces                          1\n",
       "Part 91F: Special Flt Ops.            1\n",
       "437                                   1\n",
       "Name: FAR.Description, dtype: int64"
      ]
     },
     "execution_count": 95,
     "metadata": {},
     "output_type": "execute_result"
    }
   ],
   "source": [
    "data['FAR.Description'].value_counts()"
   ]
  },
  {
   "cell_type": "code",
   "execution_count": 96,
   "metadata": {},
   "outputs": [
    {
     "data": {
      "text/plain": [
       "NSCH    4474\n",
       "UNK     4099\n",
       "SCHD    4009\n",
       "Name: Schedule, dtype: int64"
      ]
     },
     "execution_count": 96,
     "metadata": {},
     "output_type": "execute_result"
    }
   ],
   "source": [
    "data['Schedule'].value_counts()"
   ]
  },
  {
   "cell_type": "code",
   "execution_count": 97,
   "metadata": {},
   "outputs": [
    {
     "data": {
      "text/plain": [
       "Probable Cause                                                                                                                                                                                                                                     61754\n",
       "Foreign                                                                                                                                                                                                                                             1999\n",
       "<br /><br />                                                                                                                                                                                                                                         167\n",
       "Factual                                                                                                                                                                                                                                              145\n",
       "The pilot's failure to maintain directional control during the landing roll.                                                                                                                                                                          58\n",
       "                                                                                                                                                                                                                                                   ...  \n",
       "The flight instructors and pilots mismanagement of the available fuel, which resulted in exhaustion of the fuel in the selected fuel tank and a subsequent total loss of engine power.                                                               1\n",
       "The insufficient right main landing gear (MLG) down-lock tension due to maintenance personnel's failure to perform a rigging procedure during the airplane's most recent inspection, which resulted in the right MLG collapsing during landing.        1\n",
       "The pilots failure to maintain airspeed while transitioning from instrument to visual flight while still in instrument conditions, which resulted in an inadvertent stall. \\r                                                                         1\n",
       "The pilots improper decision to land the airplane with a gusting crosswind, which resulted in a loss of airplane control. \\r\\n\\r                                                                                                                      1\n",
       "The pilot's inadequate in-flight decision by failing to refuel, resulting in fuel exhaustion and the loss of engine power.                                                                                                                             1\n",
       "Name: Report.Status, Length: 17007, dtype: int64"
      ]
     },
     "execution_count": 97,
     "metadata": {},
     "output_type": "execute_result"
    }
   ],
   "source": [
    "data['Report.Status'].value_counts()"
   ]
  },
  {
   "cell_type": "code",
   "execution_count": 98,
   "metadata": {},
   "outputs": [
    {
     "data": {
      "text/plain": [
       "Substantial    64148\n",
       "Destroyed      18623\n",
       "Minor           2805\n",
       "Unknown          119\n",
       "Name: Aircraft.damage, dtype: int64"
      ]
     },
     "execution_count": 98,
     "metadata": {},
     "output_type": "execute_result"
    }
   ],
   "source": [
    "data['Aircraft.damage'].value_counts()"
   ]
  },
  {
   "cell_type": "code",
   "execution_count": 99,
   "metadata": {},
   "outputs": [
    {
     "data": {
      "text/plain": [
       "Reciprocating      69530\n",
       "Turbo Shaft         3609\n",
       "Turbo Prop          3391\n",
       "Turbo Fan           2481\n",
       "Unknown             2051\n",
       "Turbo Jet            703\n",
       "None                  19\n",
       "Geared Turbofan       12\n",
       "Electric              10\n",
       "NONE                   2\n",
       "LR                     2\n",
       "UNK                    1\n",
       "Hybrid Rocket          1\n",
       "Name: Engine.Type, dtype: int64"
      ]
     },
     "execution_count": 99,
     "metadata": {},
     "output_type": "execute_result"
    }
   ],
   "source": [
    "data['Engine.Type'].value_counts()"
   ]
  },
  {
   "cell_type": "code",
   "execution_count": 100,
   "metadata": {},
   "outputs": [
    {
     "data": {
      "text/plain": [
       "VMC    77303\n",
       "IMC     5976\n",
       "UNK      856\n",
       "Unk      262\n",
       "Name: Weather.Condition, dtype: int64"
      ]
     },
     "execution_count": 100,
     "metadata": {},
     "output_type": "execute_result"
    }
   ],
   "source": [
    "data['Weather.Condition'].value_counts()"
   ]
  },
  {
   "cell_type": "code",
   "execution_count": 101,
   "metadata": {},
   "outputs": [
    {
     "data": {
      "text/plain": [
       "Landing        15428\n",
       "Takeoff        12493\n",
       "Cruise         10269\n",
       "Maneuvering     8144\n",
       "Approach        6546\n",
       "Climb           2034\n",
       "Taxi            1958\n",
       "Descent         1887\n",
       "Go-around       1353\n",
       "Standing         945\n",
       "Unknown          548\n",
       "Other            119\n",
       "Name: Broad.phase.of.flight, dtype: int64"
      ]
     },
     "execution_count": 101,
     "metadata": {},
     "output_type": "execute_result"
    }
   ],
   "source": [
    "data['Broad.phase.of.flight'].value_counts()"
   ]
  },
  {
   "cell_type": "code",
   "execution_count": 102,
   "metadata": {},
   "outputs": [
    {
     "data": {
      "text/plain": [
       "1.0    69582\n",
       "2.0    11079\n",
       "0.0     1226\n",
       "3.0      483\n",
       "4.0      431\n",
       "8.0        3\n",
       "6.0        1\n",
       "Name: Number.of.Engines, dtype: int64"
      ]
     },
     "execution_count": 102,
     "metadata": {},
     "output_type": "execute_result"
    }
   ],
   "source": [
    "data['Number.of.Engines'].value_counts()"
   ]
  },
  {
   "cell_type": "markdown",
   "metadata": {},
   "source": [
    "The dataset includes records from 1982 through 2002.  It includes a wide variety of aircraft types, makes and models.  Most injuries are non-fatal.  While some aircraft have 2+ engines, a significant majority have only one engine.  Exploring all data to help determine its relevance to the business problem."
   ]
  },
  {
   "cell_type": "markdown",
   "metadata": {},
   "source": [
    "## Data Preparation"
   ]
  },
  {
   "cell_type": "markdown",
   "metadata": {},
   "source": [
    "I make the data easier to work with by dropping unnecessary columns which contain irrelevant information, as well as records/rows relating to obviously irrelevant incidents (ie. since we are interested in the safest airplanes only, we are removing ameteur built aircraft as well as things like helicopters, parachutes, etc.)"
   ]
  },
  {
   "cell_type": "code",
   "execution_count": 103,
   "metadata": {},
   "outputs": [],
   "source": [
    "data.drop(columns = ['Event.Id', 'Investigation.Type', 'Accident.Number', 'Location', 'Country', 'Latitude', 'Longitude', 'Airport.Code', 'Airport.Name', 'Registration.Number', 'Schedule', 'Air.carrier', 'Report.Status', 'Publication.Date', 'Broad.phase.of.flight'], inplace=True)"
   ]
  },
  {
   "cell_type": "markdown",
   "metadata": {},
   "source": []
  },
  {
   "cell_type": "code",
   "execution_count": 104,
   "metadata": {},
   "outputs": [
    {
     "data": {
      "text/html": [
       "<div>\n",
       "<style scoped>\n",
       "    .dataframe tbody tr th:only-of-type {\n",
       "        vertical-align: middle;\n",
       "    }\n",
       "\n",
       "    .dataframe tbody tr th {\n",
       "        vertical-align: top;\n",
       "    }\n",
       "\n",
       "    .dataframe thead th {\n",
       "        text-align: right;\n",
       "    }\n",
       "</style>\n",
       "<table border=\"1\" class=\"dataframe\">\n",
       "  <thead>\n",
       "    <tr style=\"text-align: right;\">\n",
       "      <th></th>\n",
       "      <th>Event.Date</th>\n",
       "      <th>Injury.Severity</th>\n",
       "      <th>Aircraft.damage</th>\n",
       "      <th>Aircraft.Category</th>\n",
       "      <th>Make</th>\n",
       "      <th>Model</th>\n",
       "      <th>Amateur.Built</th>\n",
       "      <th>Number.of.Engines</th>\n",
       "      <th>Engine.Type</th>\n",
       "      <th>FAR.Description</th>\n",
       "      <th>Purpose.of.flight</th>\n",
       "      <th>Total.Fatal.Injuries</th>\n",
       "      <th>Total.Serious.Injuries</th>\n",
       "      <th>Total.Minor.Injuries</th>\n",
       "      <th>Total.Uninjured</th>\n",
       "      <th>Weather.Condition</th>\n",
       "      <th>Event Date</th>\n",
       "    </tr>\n",
       "  </thead>\n",
       "  <tbody>\n",
       "    <tr>\n",
       "      <th>0</th>\n",
       "      <td>1948-10-24</td>\n",
       "      <td>Fatal(2)</td>\n",
       "      <td>Destroyed</td>\n",
       "      <td>NaN</td>\n",
       "      <td>Stinson</td>\n",
       "      <td>108-3</td>\n",
       "      <td>No</td>\n",
       "      <td>1.0</td>\n",
       "      <td>Reciprocating</td>\n",
       "      <td>NaN</td>\n",
       "      <td>Personal</td>\n",
       "      <td>2.0</td>\n",
       "      <td>0.0</td>\n",
       "      <td>0.0</td>\n",
       "      <td>0.0</td>\n",
       "      <td>UNK</td>\n",
       "      <td>1948-10-24</td>\n",
       "    </tr>\n",
       "    <tr>\n",
       "      <th>1</th>\n",
       "      <td>1962-07-19</td>\n",
       "      <td>Fatal(4)</td>\n",
       "      <td>Destroyed</td>\n",
       "      <td>NaN</td>\n",
       "      <td>Piper</td>\n",
       "      <td>PA24-180</td>\n",
       "      <td>No</td>\n",
       "      <td>1.0</td>\n",
       "      <td>Reciprocating</td>\n",
       "      <td>NaN</td>\n",
       "      <td>Personal</td>\n",
       "      <td>4.0</td>\n",
       "      <td>0.0</td>\n",
       "      <td>0.0</td>\n",
       "      <td>0.0</td>\n",
       "      <td>UNK</td>\n",
       "      <td>1962-07-19</td>\n",
       "    </tr>\n",
       "    <tr>\n",
       "      <th>2</th>\n",
       "      <td>1974-08-30</td>\n",
       "      <td>Fatal(3)</td>\n",
       "      <td>Destroyed</td>\n",
       "      <td>NaN</td>\n",
       "      <td>Cessna</td>\n",
       "      <td>172M</td>\n",
       "      <td>No</td>\n",
       "      <td>1.0</td>\n",
       "      <td>Reciprocating</td>\n",
       "      <td>NaN</td>\n",
       "      <td>Personal</td>\n",
       "      <td>3.0</td>\n",
       "      <td>NaN</td>\n",
       "      <td>NaN</td>\n",
       "      <td>NaN</td>\n",
       "      <td>IMC</td>\n",
       "      <td>1974-08-30</td>\n",
       "    </tr>\n",
       "    <tr>\n",
       "      <th>3</th>\n",
       "      <td>1977-06-19</td>\n",
       "      <td>Fatal(2)</td>\n",
       "      <td>Destroyed</td>\n",
       "      <td>NaN</td>\n",
       "      <td>Rockwell</td>\n",
       "      <td>112</td>\n",
       "      <td>No</td>\n",
       "      <td>1.0</td>\n",
       "      <td>Reciprocating</td>\n",
       "      <td>NaN</td>\n",
       "      <td>Personal</td>\n",
       "      <td>2.0</td>\n",
       "      <td>0.0</td>\n",
       "      <td>0.0</td>\n",
       "      <td>0.0</td>\n",
       "      <td>IMC</td>\n",
       "      <td>1977-06-19</td>\n",
       "    </tr>\n",
       "    <tr>\n",
       "      <th>4</th>\n",
       "      <td>1979-08-02</td>\n",
       "      <td>Fatal(1)</td>\n",
       "      <td>Destroyed</td>\n",
       "      <td>NaN</td>\n",
       "      <td>Cessna</td>\n",
       "      <td>501</td>\n",
       "      <td>No</td>\n",
       "      <td>NaN</td>\n",
       "      <td>NaN</td>\n",
       "      <td>NaN</td>\n",
       "      <td>Personal</td>\n",
       "      <td>1.0</td>\n",
       "      <td>2.0</td>\n",
       "      <td>NaN</td>\n",
       "      <td>0.0</td>\n",
       "      <td>VMC</td>\n",
       "      <td>1979-08-02</td>\n",
       "    </tr>\n",
       "  </tbody>\n",
       "</table>\n",
       "</div>"
      ],
      "text/plain": [
       "   Event.Date Injury.Severity Aircraft.damage Aircraft.Category      Make  \\\n",
       "0  1948-10-24        Fatal(2)       Destroyed               NaN   Stinson   \n",
       "1  1962-07-19        Fatal(4)       Destroyed               NaN     Piper   \n",
       "2  1974-08-30        Fatal(3)       Destroyed               NaN    Cessna   \n",
       "3  1977-06-19        Fatal(2)       Destroyed               NaN  Rockwell   \n",
       "4  1979-08-02        Fatal(1)       Destroyed               NaN    Cessna   \n",
       "\n",
       "      Model Amateur.Built  Number.of.Engines    Engine.Type FAR.Description  \\\n",
       "0     108-3            No                1.0  Reciprocating             NaN   \n",
       "1  PA24-180            No                1.0  Reciprocating             NaN   \n",
       "2      172M            No                1.0  Reciprocating             NaN   \n",
       "3       112            No                1.0  Reciprocating             NaN   \n",
       "4       501            No                NaN            NaN             NaN   \n",
       "\n",
       "  Purpose.of.flight  Total.Fatal.Injuries  Total.Serious.Injuries  \\\n",
       "0          Personal                   2.0                     0.0   \n",
       "1          Personal                   4.0                     0.0   \n",
       "2          Personal                   3.0                     NaN   \n",
       "3          Personal                   2.0                     0.0   \n",
       "4          Personal                   1.0                     2.0   \n",
       "\n",
       "   Total.Minor.Injuries  Total.Uninjured Weather.Condition Event Date  \n",
       "0                   0.0              0.0               UNK 1948-10-24  \n",
       "1                   0.0              0.0               UNK 1962-07-19  \n",
       "2                   NaN              NaN               IMC 1974-08-30  \n",
       "3                   0.0              0.0               IMC 1977-06-19  \n",
       "4                   NaN              0.0               VMC 1979-08-02  "
      ]
     },
     "execution_count": 104,
     "metadata": {},
     "output_type": "execute_result"
    }
   ],
   "source": [
    "data.head()"
   ]
  },
  {
   "cell_type": "code",
   "execution_count": 105,
   "metadata": {},
   "outputs": [],
   "source": [
    "data.drop(data[data['Amateur.Built'] == 'Yes'].index, inplace=True)"
   ]
  },
  {
   "cell_type": "code",
   "execution_count": 106,
   "metadata": {},
   "outputs": [],
   "source": [
    "data.drop(data[data['Purpose.of.flight'] == 'Personal'].index, inplace=True)"
   ]
  },
  {
   "cell_type": "code",
   "execution_count": 107,
   "metadata": {},
   "outputs": [
    {
     "name": "stdout",
     "output_type": "stream",
     "text": [
      "<class 'pandas.core.frame.DataFrame'>\n",
      "Int64Index: 39866 entries, 5 to 90344\n",
      "Data columns (total 17 columns):\n",
      " #   Column                  Non-Null Count  Dtype         \n",
      "---  ------                  --------------  -----         \n",
      " 0   Event.Date              38407 non-null  object        \n",
      " 1   Injury.Severity         37424 non-null  object        \n",
      " 2   Aircraft.damage         35580 non-null  object        \n",
      " 3   Aircraft.Category       14122 non-null  object        \n",
      " 4   Make                    38361 non-null  object        \n",
      " 5   Model                   38343 non-null  object        \n",
      " 6   Amateur.Built           38325 non-null  object        \n",
      " 7   Number.of.Engines       33935 non-null  float64       \n",
      " 8   Engine.Type             33589 non-null  object        \n",
      " 9   FAR.Description         13831 non-null  object        \n",
      " 10  Purpose.of.flight       32271 non-null  object        \n",
      " 11  Total.Fatal.Injuries    33365 non-null  float64       \n",
      " 12  Total.Serious.Injuries  32970 non-null  float64       \n",
      " 13  Total.Minor.Injuries    33142 non-null  float64       \n",
      " 14  Total.Uninjured         36070 non-null  float64       \n",
      " 15  Weather.Condition       34484 non-null  object        \n",
      " 16  Event Date              38407 non-null  datetime64[ns]\n",
      "dtypes: datetime64[ns](1), float64(5), object(11)\n",
      "memory usage: 5.5+ MB\n"
     ]
    }
   ],
   "source": [
    "data.info()"
   ]
  },
  {
   "cell_type": "code",
   "execution_count": 108,
   "metadata": {},
   "outputs": [],
   "source": [
    "data.drop(columns = ['FAR.Description', 'Event Date'], inplace=True)"
   ]
  },
  {
   "cell_type": "code",
   "execution_count": 109,
   "metadata": {},
   "outputs": [
    {
     "name": "stdout",
     "output_type": "stream",
     "text": [
      "<class 'pandas.core.frame.DataFrame'>\n",
      "Int64Index: 39866 entries, 5 to 90344\n",
      "Data columns (total 15 columns):\n",
      " #   Column                  Non-Null Count  Dtype  \n",
      "---  ------                  --------------  -----  \n",
      " 0   Event.Date              38407 non-null  object \n",
      " 1   Injury.Severity         37424 non-null  object \n",
      " 2   Aircraft.damage         35580 non-null  object \n",
      " 3   Aircraft.Category       14122 non-null  object \n",
      " 4   Make                    38361 non-null  object \n",
      " 5   Model                   38343 non-null  object \n",
      " 6   Amateur.Built           38325 non-null  object \n",
      " 7   Number.of.Engines       33935 non-null  float64\n",
      " 8   Engine.Type             33589 non-null  object \n",
      " 9   Purpose.of.flight       32271 non-null  object \n",
      " 10  Total.Fatal.Injuries    33365 non-null  float64\n",
      " 11  Total.Serious.Injuries  32970 non-null  float64\n",
      " 12  Total.Minor.Injuries    33142 non-null  float64\n",
      " 13  Total.Uninjured         36070 non-null  float64\n",
      " 14  Weather.Condition       34484 non-null  object \n",
      "dtypes: float64(5), object(10)\n",
      "memory usage: 4.9+ MB\n"
     ]
    }
   ],
   "source": [
    "data.info()"
   ]
  },
  {
   "cell_type": "code",
   "execution_count": 110,
   "metadata": {},
   "outputs": [
    {
     "data": {
      "text/html": [
       "<div>\n",
       "<style scoped>\n",
       "    .dataframe tbody tr th:only-of-type {\n",
       "        vertical-align: middle;\n",
       "    }\n",
       "\n",
       "    .dataframe tbody tr th {\n",
       "        vertical-align: top;\n",
       "    }\n",
       "\n",
       "    .dataframe thead th {\n",
       "        text-align: right;\n",
       "    }\n",
       "</style>\n",
       "<table border=\"1\" class=\"dataframe\">\n",
       "  <thead>\n",
       "    <tr style=\"text-align: right;\">\n",
       "      <th></th>\n",
       "      <th>Event.Date</th>\n",
       "      <th>Injury.Severity</th>\n",
       "      <th>Aircraft.damage</th>\n",
       "      <th>Aircraft.Category</th>\n",
       "      <th>Make</th>\n",
       "      <th>Model</th>\n",
       "      <th>Amateur.Built</th>\n",
       "      <th>Number.of.Engines</th>\n",
       "      <th>Engine.Type</th>\n",
       "      <th>Purpose.of.flight</th>\n",
       "      <th>Total.Fatal.Injuries</th>\n",
       "      <th>Total.Serious.Injuries</th>\n",
       "      <th>Total.Minor.Injuries</th>\n",
       "      <th>Total.Uninjured</th>\n",
       "      <th>Weather.Condition</th>\n",
       "    </tr>\n",
       "  </thead>\n",
       "  <tbody>\n",
       "    <tr>\n",
       "      <th>5</th>\n",
       "      <td>1979-09-17</td>\n",
       "      <td>Non-Fatal</td>\n",
       "      <td>Substantial</td>\n",
       "      <td>Airplane</td>\n",
       "      <td>Mcdonnell Douglas</td>\n",
       "      <td>DC9</td>\n",
       "      <td>No</td>\n",
       "      <td>2.0</td>\n",
       "      <td>Turbo Fan</td>\n",
       "      <td>NaN</td>\n",
       "      <td>NaN</td>\n",
       "      <td>NaN</td>\n",
       "      <td>1.0</td>\n",
       "      <td>44.0</td>\n",
       "      <td>VMC</td>\n",
       "    </tr>\n",
       "    <tr>\n",
       "      <th>8</th>\n",
       "      <td>1982-01-01</td>\n",
       "      <td>Non-Fatal</td>\n",
       "      <td>Substantial</td>\n",
       "      <td>Airplane</td>\n",
       "      <td>Cessna</td>\n",
       "      <td>401B</td>\n",
       "      <td>No</td>\n",
       "      <td>2.0</td>\n",
       "      <td>Reciprocating</td>\n",
       "      <td>Business</td>\n",
       "      <td>0.0</td>\n",
       "      <td>0.0</td>\n",
       "      <td>0.0</td>\n",
       "      <td>2.0</td>\n",
       "      <td>IMC</td>\n",
       "    </tr>\n",
       "    <tr>\n",
       "      <th>20</th>\n",
       "      <td>1982-01-02</td>\n",
       "      <td>Non-Fatal</td>\n",
       "      <td>Substantial</td>\n",
       "      <td>Airplane</td>\n",
       "      <td>Cessna</td>\n",
       "      <td>152</td>\n",
       "      <td>No</td>\n",
       "      <td>1.0</td>\n",
       "      <td>Reciprocating</td>\n",
       "      <td>Instructional</td>\n",
       "      <td>0.0</td>\n",
       "      <td>0.0</td>\n",
       "      <td>0.0</td>\n",
       "      <td>1.0</td>\n",
       "      <td>VMC</td>\n",
       "    </tr>\n",
       "    <tr>\n",
       "      <th>22</th>\n",
       "      <td>1982-01-02</td>\n",
       "      <td>Non-Fatal</td>\n",
       "      <td>Substantial</td>\n",
       "      <td>Helicopter</td>\n",
       "      <td>Bell</td>\n",
       "      <td>206L-1</td>\n",
       "      <td>No</td>\n",
       "      <td>1.0</td>\n",
       "      <td>Turbo Shaft</td>\n",
       "      <td>Unknown</td>\n",
       "      <td>0.0</td>\n",
       "      <td>0.0</td>\n",
       "      <td>0.0</td>\n",
       "      <td>1.0</td>\n",
       "      <td>VMC</td>\n",
       "    </tr>\n",
       "    <tr>\n",
       "      <th>25</th>\n",
       "      <td>1982-01-03</td>\n",
       "      <td>Fatal(8)</td>\n",
       "      <td>Destroyed</td>\n",
       "      <td>Airplane</td>\n",
       "      <td>Cessna</td>\n",
       "      <td>414A</td>\n",
       "      <td>No</td>\n",
       "      <td>2.0</td>\n",
       "      <td>Reciprocating</td>\n",
       "      <td>Business</td>\n",
       "      <td>8.0</td>\n",
       "      <td>0.0</td>\n",
       "      <td>0.0</td>\n",
       "      <td>0.0</td>\n",
       "      <td>IMC</td>\n",
       "    </tr>\n",
       "  </tbody>\n",
       "</table>\n",
       "</div>"
      ],
      "text/plain": [
       "    Event.Date Injury.Severity Aircraft.damage Aircraft.Category  \\\n",
       "5   1979-09-17       Non-Fatal     Substantial          Airplane   \n",
       "8   1982-01-01       Non-Fatal     Substantial          Airplane   \n",
       "20  1982-01-02       Non-Fatal     Substantial          Airplane   \n",
       "22  1982-01-02       Non-Fatal     Substantial        Helicopter   \n",
       "25  1982-01-03        Fatal(8)       Destroyed          Airplane   \n",
       "\n",
       "                 Make   Model Amateur.Built  Number.of.Engines    Engine.Type  \\\n",
       "5   Mcdonnell Douglas     DC9            No                2.0      Turbo Fan   \n",
       "8              Cessna    401B            No                2.0  Reciprocating   \n",
       "20             Cessna     152            No                1.0  Reciprocating   \n",
       "22               Bell  206L-1            No                1.0    Turbo Shaft   \n",
       "25             Cessna    414A            No                2.0  Reciprocating   \n",
       "\n",
       "   Purpose.of.flight  Total.Fatal.Injuries  Total.Serious.Injuries  \\\n",
       "5                NaN                   NaN                     NaN   \n",
       "8           Business                   0.0                     0.0   \n",
       "20     Instructional                   0.0                     0.0   \n",
       "22           Unknown                   0.0                     0.0   \n",
       "25          Business                   8.0                     0.0   \n",
       "\n",
       "    Total.Minor.Injuries  Total.Uninjured Weather.Condition  \n",
       "5                    1.0             44.0               VMC  \n",
       "8                    0.0              2.0               IMC  \n",
       "20                   0.0              1.0               VMC  \n",
       "22                   0.0              1.0               VMC  \n",
       "25                   0.0              0.0               IMC  "
      ]
     },
     "execution_count": 110,
     "metadata": {},
     "output_type": "execute_result"
    }
   ],
   "source": [
    "data.head()"
   ]
  },
  {
   "cell_type": "code",
   "execution_count": 111,
   "metadata": {},
   "outputs": [],
   "source": [
    "values_to_remove = ['Helicopter', 'Glider', 'Balloon', 'Gyrocraft', 'Weight-Shift', 'Powered Parachute', 'Ultralight', 'Unknown', 'WSFT', 'Powered-Lift', 'Blimp', 'UNK', 'Rocket', 'ULTR' ]\n",
    "data = data[~data['Aircraft.Category'].isin(values_to_remove)]"
   ]
  },
  {
   "cell_type": "code",
   "execution_count": 112,
   "metadata": {},
   "outputs": [
    {
     "name": "stdout",
     "output_type": "stream",
     "text": [
      "<class 'pandas.core.frame.DataFrame'>\n",
      "Int64Index: 36836 entries, 5 to 90344\n",
      "Data columns (total 15 columns):\n",
      " #   Column                  Non-Null Count  Dtype  \n",
      "---  ------                  --------------  -----  \n",
      " 0   Event.Date              35377 non-null  object \n",
      " 1   Injury.Severity         34464 non-null  object \n",
      " 2   Aircraft.damage         32679 non-null  object \n",
      " 3   Aircraft.Category       11092 non-null  object \n",
      " 4   Make                    35332 non-null  object \n",
      " 5   Model                   35313 non-null  object \n",
      " 6   Amateur.Built           35297 non-null  object \n",
      " 7   Number.of.Engines       31481 non-null  float64\n",
      " 8   Engine.Type             31404 non-null  object \n",
      " 9   Purpose.of.flight       29941 non-null  object \n",
      " 10  Total.Fatal.Injuries    30659 non-null  float64\n",
      " 11  Total.Serious.Injuries  30248 non-null  float64\n",
      " 12  Total.Minor.Injuries    30390 non-null  float64\n",
      " 13  Total.Uninjured         33156 non-null  float64\n",
      " 14  Weather.Condition       32007 non-null  object \n",
      "dtypes: float64(5), object(10)\n",
      "memory usage: 4.5+ MB\n"
     ]
    }
   ],
   "source": [
    "data.info()"
   ]
  },
  {
   "cell_type": "code",
   "execution_count": 113,
   "metadata": {},
   "outputs": [],
   "source": [
    "data.drop(columns = ['Aircraft.Category'], inplace=True)"
   ]
  },
  {
   "cell_type": "code",
   "execution_count": 114,
   "metadata": {},
   "outputs": [],
   "source": [
    "data.drop(columns = ['Amateur.Built'], inplace=True)"
   ]
  },
  {
   "cell_type": "code",
   "execution_count": 115,
   "metadata": {},
   "outputs": [
    {
     "name": "stdout",
     "output_type": "stream",
     "text": [
      "<class 'pandas.core.frame.DataFrame'>\n",
      "Int64Index: 36836 entries, 5 to 90344\n",
      "Data columns (total 13 columns):\n",
      " #   Column                  Non-Null Count  Dtype  \n",
      "---  ------                  --------------  -----  \n",
      " 0   Event.Date              35377 non-null  object \n",
      " 1   Injury.Severity         34464 non-null  object \n",
      " 2   Aircraft.damage         32679 non-null  object \n",
      " 3   Make                    35332 non-null  object \n",
      " 4   Model                   35313 non-null  object \n",
      " 5   Number.of.Engines       31481 non-null  float64\n",
      " 6   Engine.Type             31404 non-null  object \n",
      " 7   Purpose.of.flight       29941 non-null  object \n",
      " 8   Total.Fatal.Injuries    30659 non-null  float64\n",
      " 9   Total.Serious.Injuries  30248 non-null  float64\n",
      " 10  Total.Minor.Injuries    30390 non-null  float64\n",
      " 11  Total.Uninjured         33156 non-null  float64\n",
      " 12  Weather.Condition       32007 non-null  object \n",
      "dtypes: float64(5), object(8)\n",
      "memory usage: 3.9+ MB\n"
     ]
    }
   ],
   "source": [
    "data.info()"
   ]
  },
  {
   "cell_type": "code",
   "execution_count": 116,
   "metadata": {},
   "outputs": [
    {
     "data": {
      "text/html": [
       "<div>\n",
       "<style scoped>\n",
       "    .dataframe tbody tr th:only-of-type {\n",
       "        vertical-align: middle;\n",
       "    }\n",
       "\n",
       "    .dataframe tbody tr th {\n",
       "        vertical-align: top;\n",
       "    }\n",
       "\n",
       "    .dataframe thead th {\n",
       "        text-align: right;\n",
       "    }\n",
       "</style>\n",
       "<table border=\"1\" class=\"dataframe\">\n",
       "  <thead>\n",
       "    <tr style=\"text-align: right;\">\n",
       "      <th></th>\n",
       "      <th>Event.Date</th>\n",
       "      <th>Injury.Severity</th>\n",
       "      <th>Aircraft.damage</th>\n",
       "      <th>Make</th>\n",
       "      <th>Model</th>\n",
       "      <th>Number.of.Engines</th>\n",
       "      <th>Engine.Type</th>\n",
       "      <th>Purpose.of.flight</th>\n",
       "      <th>Total.Fatal.Injuries</th>\n",
       "      <th>Total.Serious.Injuries</th>\n",
       "      <th>Total.Minor.Injuries</th>\n",
       "      <th>Total.Uninjured</th>\n",
       "      <th>Weather.Condition</th>\n",
       "    </tr>\n",
       "  </thead>\n",
       "  <tbody>\n",
       "    <tr>\n",
       "      <th>5</th>\n",
       "      <td>1979-09-17</td>\n",
       "      <td>Non-Fatal</td>\n",
       "      <td>Substantial</td>\n",
       "      <td>Mcdonnell Douglas</td>\n",
       "      <td>DC9</td>\n",
       "      <td>2.0</td>\n",
       "      <td>Turbo Fan</td>\n",
       "      <td>NaN</td>\n",
       "      <td>NaN</td>\n",
       "      <td>NaN</td>\n",
       "      <td>1.0</td>\n",
       "      <td>44.0</td>\n",
       "      <td>VMC</td>\n",
       "    </tr>\n",
       "    <tr>\n",
       "      <th>8</th>\n",
       "      <td>1982-01-01</td>\n",
       "      <td>Non-Fatal</td>\n",
       "      <td>Substantial</td>\n",
       "      <td>Cessna</td>\n",
       "      <td>401B</td>\n",
       "      <td>2.0</td>\n",
       "      <td>Reciprocating</td>\n",
       "      <td>Business</td>\n",
       "      <td>0.0</td>\n",
       "      <td>0.0</td>\n",
       "      <td>0.0</td>\n",
       "      <td>2.0</td>\n",
       "      <td>IMC</td>\n",
       "    </tr>\n",
       "    <tr>\n",
       "      <th>20</th>\n",
       "      <td>1982-01-02</td>\n",
       "      <td>Non-Fatal</td>\n",
       "      <td>Substantial</td>\n",
       "      <td>Cessna</td>\n",
       "      <td>152</td>\n",
       "      <td>1.0</td>\n",
       "      <td>Reciprocating</td>\n",
       "      <td>Instructional</td>\n",
       "      <td>0.0</td>\n",
       "      <td>0.0</td>\n",
       "      <td>0.0</td>\n",
       "      <td>1.0</td>\n",
       "      <td>VMC</td>\n",
       "    </tr>\n",
       "    <tr>\n",
       "      <th>25</th>\n",
       "      <td>1982-01-03</td>\n",
       "      <td>Fatal(8)</td>\n",
       "      <td>Destroyed</td>\n",
       "      <td>Cessna</td>\n",
       "      <td>414A</td>\n",
       "      <td>2.0</td>\n",
       "      <td>Reciprocating</td>\n",
       "      <td>Business</td>\n",
       "      <td>8.0</td>\n",
       "      <td>0.0</td>\n",
       "      <td>0.0</td>\n",
       "      <td>0.0</td>\n",
       "      <td>IMC</td>\n",
       "    </tr>\n",
       "    <tr>\n",
       "      <th>31</th>\n",
       "      <td>1982-01-03</td>\n",
       "      <td>Non-Fatal</td>\n",
       "      <td>Substantial</td>\n",
       "      <td>Air Tractor</td>\n",
       "      <td>AT-301</td>\n",
       "      <td>1.0</td>\n",
       "      <td>Reciprocating</td>\n",
       "      <td>Ferry</td>\n",
       "      <td>0.0</td>\n",
       "      <td>0.0</td>\n",
       "      <td>0.0</td>\n",
       "      <td>1.0</td>\n",
       "      <td>VMC</td>\n",
       "    </tr>\n",
       "  </tbody>\n",
       "</table>\n",
       "</div>"
      ],
      "text/plain": [
       "    Event.Date Injury.Severity Aircraft.damage               Make   Model  \\\n",
       "5   1979-09-17       Non-Fatal     Substantial  Mcdonnell Douglas     DC9   \n",
       "8   1982-01-01       Non-Fatal     Substantial             Cessna    401B   \n",
       "20  1982-01-02       Non-Fatal     Substantial             Cessna     152   \n",
       "25  1982-01-03        Fatal(8)       Destroyed             Cessna    414A   \n",
       "31  1982-01-03       Non-Fatal     Substantial        Air Tractor  AT-301   \n",
       "\n",
       "    Number.of.Engines    Engine.Type Purpose.of.flight  Total.Fatal.Injuries  \\\n",
       "5                 2.0      Turbo Fan               NaN                   NaN   \n",
       "8                 2.0  Reciprocating          Business                   0.0   \n",
       "20                1.0  Reciprocating     Instructional                   0.0   \n",
       "25                2.0  Reciprocating          Business                   8.0   \n",
       "31                1.0  Reciprocating             Ferry                   0.0   \n",
       "\n",
       "    Total.Serious.Injuries  Total.Minor.Injuries  Total.Uninjured  \\\n",
       "5                      NaN                   1.0             44.0   \n",
       "8                      0.0                   0.0              2.0   \n",
       "20                     0.0                   0.0              1.0   \n",
       "25                     0.0                   0.0              0.0   \n",
       "31                     0.0                   0.0              1.0   \n",
       "\n",
       "   Weather.Condition  \n",
       "5                VMC  \n",
       "8                IMC  \n",
       "20               VMC  \n",
       "25               IMC  \n",
       "31               VMC  "
      ]
     },
     "execution_count": 116,
     "metadata": {},
     "output_type": "execute_result"
    }
   ],
   "source": [
    "data.head()"
   ]
  },
  {
   "cell_type": "code",
   "execution_count": 117,
   "metadata": {},
   "outputs": [],
   "source": [
    "data.drop(columns = ['Aircraft.damage'], inplace = True)"
   ]
  },
  {
   "cell_type": "code",
   "execution_count": 118,
   "metadata": {},
   "outputs": [
    {
     "data": {
      "text/html": [
       "<div>\n",
       "<style scoped>\n",
       "    .dataframe tbody tr th:only-of-type {\n",
       "        vertical-align: middle;\n",
       "    }\n",
       "\n",
       "    .dataframe tbody tr th {\n",
       "        vertical-align: top;\n",
       "    }\n",
       "\n",
       "    .dataframe thead th {\n",
       "        text-align: right;\n",
       "    }\n",
       "</style>\n",
       "<table border=\"1\" class=\"dataframe\">\n",
       "  <thead>\n",
       "    <tr style=\"text-align: right;\">\n",
       "      <th></th>\n",
       "      <th>Event.Date</th>\n",
       "      <th>Injury.Severity</th>\n",
       "      <th>Make</th>\n",
       "      <th>Model</th>\n",
       "      <th>Number.of.Engines</th>\n",
       "      <th>Engine.Type</th>\n",
       "      <th>Purpose.of.flight</th>\n",
       "      <th>Total.Fatal.Injuries</th>\n",
       "      <th>Total.Serious.Injuries</th>\n",
       "      <th>Total.Minor.Injuries</th>\n",
       "      <th>Total.Uninjured</th>\n",
       "      <th>Weather.Condition</th>\n",
       "    </tr>\n",
       "  </thead>\n",
       "  <tbody>\n",
       "    <tr>\n",
       "      <th>5</th>\n",
       "      <td>1979-09-17</td>\n",
       "      <td>Non-Fatal</td>\n",
       "      <td>Mcdonnell Douglas</td>\n",
       "      <td>DC9</td>\n",
       "      <td>2.0</td>\n",
       "      <td>Turbo Fan</td>\n",
       "      <td>NaN</td>\n",
       "      <td>NaN</td>\n",
       "      <td>NaN</td>\n",
       "      <td>1.0</td>\n",
       "      <td>44.0</td>\n",
       "      <td>VMC</td>\n",
       "    </tr>\n",
       "    <tr>\n",
       "      <th>8</th>\n",
       "      <td>1982-01-01</td>\n",
       "      <td>Non-Fatal</td>\n",
       "      <td>Cessna</td>\n",
       "      <td>401B</td>\n",
       "      <td>2.0</td>\n",
       "      <td>Reciprocating</td>\n",
       "      <td>Business</td>\n",
       "      <td>0.0</td>\n",
       "      <td>0.0</td>\n",
       "      <td>0.0</td>\n",
       "      <td>2.0</td>\n",
       "      <td>IMC</td>\n",
       "    </tr>\n",
       "    <tr>\n",
       "      <th>20</th>\n",
       "      <td>1982-01-02</td>\n",
       "      <td>Non-Fatal</td>\n",
       "      <td>Cessna</td>\n",
       "      <td>152</td>\n",
       "      <td>1.0</td>\n",
       "      <td>Reciprocating</td>\n",
       "      <td>Instructional</td>\n",
       "      <td>0.0</td>\n",
       "      <td>0.0</td>\n",
       "      <td>0.0</td>\n",
       "      <td>1.0</td>\n",
       "      <td>VMC</td>\n",
       "    </tr>\n",
       "    <tr>\n",
       "      <th>25</th>\n",
       "      <td>1982-01-03</td>\n",
       "      <td>Fatal(8)</td>\n",
       "      <td>Cessna</td>\n",
       "      <td>414A</td>\n",
       "      <td>2.0</td>\n",
       "      <td>Reciprocating</td>\n",
       "      <td>Business</td>\n",
       "      <td>8.0</td>\n",
       "      <td>0.0</td>\n",
       "      <td>0.0</td>\n",
       "      <td>0.0</td>\n",
       "      <td>IMC</td>\n",
       "    </tr>\n",
       "    <tr>\n",
       "      <th>31</th>\n",
       "      <td>1982-01-03</td>\n",
       "      <td>Non-Fatal</td>\n",
       "      <td>Air Tractor</td>\n",
       "      <td>AT-301</td>\n",
       "      <td>1.0</td>\n",
       "      <td>Reciprocating</td>\n",
       "      <td>Ferry</td>\n",
       "      <td>0.0</td>\n",
       "      <td>0.0</td>\n",
       "      <td>0.0</td>\n",
       "      <td>1.0</td>\n",
       "      <td>VMC</td>\n",
       "    </tr>\n",
       "  </tbody>\n",
       "</table>\n",
       "</div>"
      ],
      "text/plain": [
       "    Event.Date Injury.Severity               Make   Model  Number.of.Engines  \\\n",
       "5   1979-09-17       Non-Fatal  Mcdonnell Douglas     DC9                2.0   \n",
       "8   1982-01-01       Non-Fatal             Cessna    401B                2.0   \n",
       "20  1982-01-02       Non-Fatal             Cessna     152                1.0   \n",
       "25  1982-01-03        Fatal(8)             Cessna    414A                2.0   \n",
       "31  1982-01-03       Non-Fatal        Air Tractor  AT-301                1.0   \n",
       "\n",
       "      Engine.Type Purpose.of.flight  Total.Fatal.Injuries  \\\n",
       "5       Turbo Fan               NaN                   NaN   \n",
       "8   Reciprocating          Business                   0.0   \n",
       "20  Reciprocating     Instructional                   0.0   \n",
       "25  Reciprocating          Business                   8.0   \n",
       "31  Reciprocating             Ferry                   0.0   \n",
       "\n",
       "    Total.Serious.Injuries  Total.Minor.Injuries  Total.Uninjured  \\\n",
       "5                      NaN                   1.0             44.0   \n",
       "8                      0.0                   0.0              2.0   \n",
       "20                     0.0                   0.0              1.0   \n",
       "25                     0.0                   0.0              0.0   \n",
       "31                     0.0                   0.0              1.0   \n",
       "\n",
       "   Weather.Condition  \n",
       "5                VMC  \n",
       "8                IMC  \n",
       "20               VMC  \n",
       "25               IMC  \n",
       "31               VMC  "
      ]
     },
     "execution_count": 118,
     "metadata": {},
     "output_type": "execute_result"
    }
   ],
   "source": [
    "data.head()"
   ]
  },
  {
   "cell_type": "markdown",
   "metadata": {},
   "source": [
    "# Exploratory Data Analysis"
   ]
  },
  {
   "cell_type": "code",
   "execution_count": 119,
   "metadata": {},
   "outputs": [],
   "source": [
    "import matplotlib\n",
    "import matplotlib.pyplot as plt\n",
    "\n",
    "%matplotlib inline"
   ]
  },
  {
   "cell_type": "code",
   "execution_count": 120,
   "metadata": {},
   "outputs": [
    {
     "data": {
      "text/plain": [
       "1.0    22723\n",
       "2.0     7570\n",
       "3.0      477\n",
       "4.0      416\n",
       "0.0      293\n",
       "6.0        1\n",
       "8.0        1\n",
       "Name: Number.of.Engines, dtype: int64"
      ]
     },
     "execution_count": 120,
     "metadata": {},
     "output_type": "execute_result"
    }
   ],
   "source": [
    "data['Number.of.Engines'].value_counts()"
   ]
  },
  {
   "cell_type": "code",
   "execution_count": 121,
   "metadata": {},
   "outputs": [],
   "source": [
    "data = data[data['Number.of.Engines'] != 0.0]"
   ]
  },
  {
   "cell_type": "code",
   "execution_count": 122,
   "metadata": {},
   "outputs": [],
   "source": [
    "data = data[data['Number.of.Engines'] != 6.0]"
   ]
  },
  {
   "cell_type": "code",
   "execution_count": 123,
   "metadata": {},
   "outputs": [],
   "source": [
    "data = data[data['Number.of.Engines'] != 8.0]"
   ]
  },
  {
   "cell_type": "code",
   "execution_count": 124,
   "metadata": {},
   "outputs": [
    {
     "name": "stdout",
     "output_type": "stream",
     "text": [
      "<class 'pandas.core.frame.DataFrame'>\n",
      "Int64Index: 36541 entries, 5 to 90344\n",
      "Data columns (total 12 columns):\n",
      " #   Column                  Non-Null Count  Dtype  \n",
      "---  ------                  --------------  -----  \n",
      " 0   Event.Date              35082 non-null  object \n",
      " 1   Injury.Severity         34169 non-null  object \n",
      " 2   Make                    35037 non-null  object \n",
      " 3   Model                   35018 non-null  object \n",
      " 4   Number.of.Engines       31186 non-null  float64\n",
      " 5   Engine.Type             31159 non-null  object \n",
      " 6   Purpose.of.flight       29647 non-null  object \n",
      " 7   Total.Fatal.Injuries    30441 non-null  float64\n",
      " 8   Total.Serious.Injuries  30013 non-null  float64\n",
      " 9   Total.Minor.Injuries    30165 non-null  float64\n",
      " 10  Total.Uninjured         32907 non-null  float64\n",
      " 11  Weather.Condition       31713 non-null  object \n",
      "dtypes: float64(5), object(7)\n",
      "memory usage: 3.6+ MB\n"
     ]
    }
   ],
   "source": [
    "data.info()"
   ]
  },
  {
   "cell_type": "code",
   "execution_count": 125,
   "metadata": {},
   "outputs": [
    {
     "data": {
      "text/plain": [
       "1.0    22723\n",
       "2.0     7570\n",
       "3.0      477\n",
       "4.0      416\n",
       "Name: Number.of.Engines, dtype: int64"
      ]
     },
     "execution_count": 125,
     "metadata": {},
     "output_type": "execute_result"
    }
   ],
   "source": [
    "data['Number.of.Engines'].value_counts()"
   ]
  },
  {
   "cell_type": "code",
   "execution_count": 126,
   "metadata": {},
   "outputs": [
    {
     "data": {
      "text/plain": [
       "0.0      24065\n",
       "1.0       2967\n",
       "2.0       1698\n",
       "3.0        631\n",
       "4.0        386\n",
       "         ...  \n",
       "72.0         1\n",
       "41.0         1\n",
       "57.0         1\n",
       "111.0        1\n",
       "117.0        1\n",
       "Name: Total.Fatal.Injuries, Length: 123, dtype: int64"
      ]
     },
     "execution_count": 126,
     "metadata": {},
     "output_type": "execute_result"
    }
   ],
   "source": [
    "data['Total.Fatal.Injuries'].value_counts()"
   ]
  },
  {
   "cell_type": "code",
   "execution_count": 127,
   "metadata": {},
   "outputs": [],
   "source": [
    "data.dropna(inplace = True)"
   ]
  },
  {
   "cell_type": "code",
   "execution_count": 128,
   "metadata": {},
   "outputs": [
    {
     "name": "stdout",
     "output_type": "stream",
     "text": [
      "<class 'pandas.core.frame.DataFrame'>\n",
      "Int64Index: 23813 entries, 8 to 90022\n",
      "Data columns (total 12 columns):\n",
      " #   Column                  Non-Null Count  Dtype  \n",
      "---  ------                  --------------  -----  \n",
      " 0   Event.Date              23813 non-null  object \n",
      " 1   Injury.Severity         23813 non-null  object \n",
      " 2   Make                    23813 non-null  object \n",
      " 3   Model                   23813 non-null  object \n",
      " 4   Number.of.Engines       23813 non-null  float64\n",
      " 5   Engine.Type             23813 non-null  object \n",
      " 6   Purpose.of.flight       23813 non-null  object \n",
      " 7   Total.Fatal.Injuries    23813 non-null  float64\n",
      " 8   Total.Serious.Injuries  23813 non-null  float64\n",
      " 9   Total.Minor.Injuries    23813 non-null  float64\n",
      " 10  Total.Uninjured         23813 non-null  float64\n",
      " 11  Weather.Condition       23813 non-null  object \n",
      "dtypes: float64(5), object(7)\n",
      "memory usage: 2.4+ MB\n"
     ]
    }
   ],
   "source": [
    "data.info()"
   ]
  },
  {
   "cell_type": "code",
   "execution_count": 142,
   "metadata": {},
   "outputs": [
    {
     "data": {
      "image/png": "[encoded data removed]",
      "text/plain": [
       "<Figure size 432x432 with 1 Axes>"
      ]
     },
     "metadata": {
      "needs_background": "light"
     },
     "output_type": "display_data"
    }
   ],
   "source": [
    "fig, ax = plt.subplots(figsize=(6, 6))\n",
    "plt.hist(data['Number.of.Engines'], bins=4, edgecolor='black')\n",
    "ax.set_xlabel(\"Number of Engines\")\n",
    "ax.set_ylabel(\"Incidents\")\n",
    "ax.set_title(\"Incidents by Number of Engines\")\n",
    "plt.show()"
   ]
  },
  {
   "cell_type": "code",
   "execution_count": 130,
   "metadata": {},
   "outputs": [
    {
     "data": {
      "text/plain": [
       "Reciprocating    18661\n",
       "Turbo Prop        1976\n",
       "Turbo Shaft       1553\n",
       "Turbo Fan         1183\n",
       "Turbo Jet          418\n",
       "Unknown             19\n",
       "Electric             2\n",
       "UNK                  1\n",
       "Name: Engine.Type, dtype: int64"
      ]
     },
     "execution_count": 130,
     "metadata": {},
     "output_type": "execute_result"
    }
   ],
   "source": [
    "data['Engine.Type'].value_counts()"
   ]
  },
  {
   "cell_type": "markdown",
   "metadata": {},
   "source": []
  },
  {
   "cell_type": "code",
   "execution_count": 131,
   "metadata": {},
   "outputs": [],
   "source": [
    "data.drop(data[data['Engine.Type'] == 'Unknown'].index, inplace=True)"
   ]
  },
  {
   "cell_type": "code",
   "execution_count": 132,
   "metadata": {},
   "outputs": [],
   "source": [
    "data.drop(data[data['Engine.Type'] == 'Electric'].index, inplace=True)"
   ]
  },
  {
   "cell_type": "code",
   "execution_count": 133,
   "metadata": {},
   "outputs": [],
   "source": [
    "data.drop(data[data['Engine.Type'] == 'UNK'].index, inplace=True)"
   ]
  },
  {
   "cell_type": "code",
   "execution_count": 143,
   "metadata": {},
   "outputs": [
    {
     "data": {
      "image/png": "[encoded data removed]",
      "text/plain": [
       "<Figure size 864x432 with 1 Axes>"
      ]
     },
     "metadata": {
      "needs_background": "light"
     },
     "output_type": "display_data"
    }
   ],
   "source": [
    "fig, ax = plt.subplots(figsize=(12, 6))\n",
    "plt.hist(data['Engine.Type'], bins=5, edgecolor='black')\n",
    "ax.set_xlabel(\"Engine Type\")\n",
    "ax.set_ylabel(\"Incidents\")\n",
    "ax.set_title(\"Incidents by Engine Type\")\n",
    "plt.show()"
   ]
  },
  {
   "cell_type": "code",
   "execution_count": 145,
   "metadata": {},
   "outputs": [
    {
     "name": "stdout",
     "output_type": "stream",
     "text": [
      "       Event.Date Injury.Severity               Make         Model  \\\n",
      "558    1982-03-13        Fatal(6)             Boeing       KC-135A   \n",
      "669    1982-03-24       Non-Fatal             Boeing      707-123B   \n",
      "1347   1982-05-27        Incident            Douglas       DC-8-61   \n",
      "4080   1983-03-11        Incident  Mcdonnell Douglas       DC 8-61   \n",
      "5338   1983-07-05        Incident            Douglas          DC-8   \n",
      "5529   1983-07-20        Incident            Douglas       DC-8-71   \n",
      "7156   1984-01-01        Incident             Boeing       747-121   \n",
      "8249   1984-05-15        Incident       De Havilland     DHC-7-102   \n",
      "9031   1984-07-16        Incident             Boeing       KC-135A   \n",
      "13597  1985-12-12      Fatal(256)            Douglas       DC-8-63   \n",
      "17656  1987-06-02        Incident             Boeing        EC-135   \n",
      "21497  1988-09-21        Incident             Boeing       747-100   \n",
      "25336  1990-04-24        Incident             Boeing      707-321B   \n",
      "30240  1992-04-23       Non-Fatal  Mcdonnell Douglas      DC-8F-55   \n",
      "31919  1992-12-09       Non-Fatal            Douglas       DC-8-52   \n",
      "32079  1993-01-15        Incident  Mcdonnell Douglas        DC8-55   \n",
      "32517  1993-04-12        Incident             Boeing     747-269BC   \n",
      "33571  1993-08-18       Non-Fatal            Douglas       DC-8-61   \n",
      "33799  1993-09-15        Incident            Douglas       DC-8-63   \n",
      "36328  1994-11-02        Incident             Boeing      747-251B   \n",
      "36451  1994-11-30       Non-Fatal            Douglas      DC-8-71F   \n",
      "36562  1994-12-25        Incident            Douglas      DC-8-54F   \n",
      "36698  1995-01-27        Incident  British Aerospace   BAE-146-300   \n",
      "36703  1995-01-28       Non-Fatal             Boeing      747-238B   \n",
      "36779  1995-02-16        Fatal(3)            Douglas       DC-8-63   \n",
      "36823  1995-02-25        Incident             Boeing       747-136   \n",
      "39848  1996-06-17        Incident             Boeing       747-136   \n",
      "39876  1996-06-21       Non-Fatal   Airbus Industrie     A-340-200   \n",
      "41621  1997-04-20        Incident             Boeing       747-300   \n",
      "44430  1998-07-18        Incident  Mcdonnell Douglas      DC-8-63F   \n",
      "45315  1998-11-27       Non-Fatal           Lockheed        L-1329   \n",
      "45617  1999-02-11        Incident  British Aerospace  BAE 146-200A   \n",
      "47877  2000-02-19       Non-Fatal  Mcdonnell Douglas      DC-8-63F   \n",
      "65318  2008-09-02           Fatal           LOCKHEED         P2V-7   \n",
      "71963  2012-06-03           Fatal           LOCKHEED         P2V-7   \n",
      "\n",
      "       Number.of.Engines Engine.Type          Purpose.of.flight  \\\n",
      "558                  4.0   Turbo Jet                    Unknown   \n",
      "669                  4.0   Turbo Jet                      Ferry   \n",
      "1347                 4.0   Turbo Jet                    Unknown   \n",
      "4080                 4.0   Turbo Jet                    Unknown   \n",
      "5338                 4.0   Turbo Jet                    Unknown   \n",
      "5529                 4.0   Turbo Jet                    Unknown   \n",
      "7156                 4.0   Turbo Jet                    Unknown   \n",
      "8249                 4.0   Turbo Jet                    Unknown   \n",
      "9031                 4.0   Turbo Jet                    Unknown   \n",
      "13597                4.0   Turbo Jet                    Unknown   \n",
      "17656                4.0   Turbo Jet                    Unknown   \n",
      "21497                4.0   Turbo Jet                    Unknown   \n",
      "25336                4.0   Turbo Jet                    Unknown   \n",
      "30240                4.0   Turbo Jet                    Unknown   \n",
      "31919                4.0   Turbo Jet                    Unknown   \n",
      "32079                4.0   Turbo Jet                    Unknown   \n",
      "32517                4.0   Turbo Jet                    Unknown   \n",
      "33571                4.0   Turbo Jet                    Unknown   \n",
      "33799                4.0   Turbo Jet                    Unknown   \n",
      "36328                4.0   Turbo Jet                Positioning   \n",
      "36451                4.0   Turbo Jet                    Unknown   \n",
      "36562                4.0   Turbo Jet                    Unknown   \n",
      "36698                4.0   Turbo Jet                    Unknown   \n",
      "36703                4.0   Turbo Jet                Positioning   \n",
      "36779                4.0   Turbo Jet                      Ferry   \n",
      "36823                4.0   Turbo Jet                    Unknown   \n",
      "39848                4.0   Turbo Jet                    Unknown   \n",
      "39876                4.0   Turbo Jet                    Unknown   \n",
      "41621                4.0   Turbo Jet                    Unknown   \n",
      "44430                4.0   Turbo Jet                    Unknown   \n",
      "45315                4.0   Turbo Jet                   Business   \n",
      "45617                4.0   Turbo Jet                    Unknown   \n",
      "47877                4.0   Turbo Jet                    Unknown   \n",
      "65318                4.0   Turbo Jet               Firefighting   \n",
      "71963                4.0   Turbo Jet  Public Aircraft - Federal   \n",
      "\n",
      "       Total.Fatal.Injuries  Total.Serious.Injuries  Total.Minor.Injuries  \\\n",
      "558                     6.0                     0.0                   0.0   \n",
      "669                     0.0                     0.0                   0.0   \n",
      "1347                    0.0                     0.0                  17.0   \n",
      "4080                    0.0                     0.0                   0.0   \n",
      "5338                    0.0                     0.0                   0.0   \n",
      "5529                    0.0                     0.0                   0.0   \n",
      "7156                    0.0                     0.0                   1.0   \n",
      "8249                    0.0                     0.0                   0.0   \n",
      "9031                    0.0                     0.0                   0.0   \n",
      "13597                 256.0                     0.0                   0.0   \n",
      "17656                   0.0                     0.0                   0.0   \n",
      "21497                   0.0                     0.0                  10.0   \n",
      "25336                   0.0                     0.0                   0.0   \n",
      "30240                   0.0                     0.0                   0.0   \n",
      "31919                   0.0                     0.0                   0.0   \n",
      "32079                   0.0                     0.0                   0.0   \n",
      "32517                   0.0                     0.0                   0.0   \n",
      "33571                   0.0                     3.0                   0.0   \n",
      "33799                   0.0                     0.0                   0.0   \n",
      "36328                   0.0                     0.0                   0.0   \n",
      "36451                   0.0                     1.0                   0.0   \n",
      "36562                   0.0                     0.0                   0.0   \n",
      "36698                   0.0                     0.0                   0.0   \n",
      "36703                   0.0                     0.0                   0.0   \n",
      "36779                   3.0                     0.0                   0.0   \n",
      "36823                   0.0                     0.0                   0.0   \n",
      "39848                   0.0                     0.0                   0.0   \n",
      "39876                   0.0                     4.0                   2.0   \n",
      "41621                   0.0                     0.0                   0.0   \n",
      "44430                   0.0                     0.0                   0.0   \n",
      "45315                   0.0                     0.0                   0.0   \n",
      "45617                   0.0                     0.0                   0.0   \n",
      "47877                   0.0                     0.0                   0.0   \n",
      "65318                   3.0                     0.0                   0.0   \n",
      "71963                   2.0                     0.0                   0.0   \n",
      "\n",
      "       Total.Uninjured Weather.Condition  \n",
      "558                0.0               UNK  \n",
      "669                7.0               VMC  \n",
      "1347             129.0               VMC  \n",
      "4080             186.0               VMC  \n",
      "5338             122.0               VMC  \n",
      "5529             102.0               VMC  \n",
      "7156             495.0               VMC  \n",
      "8249              25.0               VMC  \n",
      "9031              45.0               VMC  \n",
      "13597              0.0               IMC  \n",
      "17656             72.0               VMC  \n",
      "21497            221.0               IMC  \n",
      "25336              3.0               VMC  \n",
      "30240              6.0               VMC  \n",
      "31919              3.0               VMC  \n",
      "32079              3.0               VMC  \n",
      "32517             40.0               VMC  \n",
      "33571              0.0               VMC  \n",
      "33799              7.0               IMC  \n",
      "36328              3.0               VMC  \n",
      "36451              6.0               VMC  \n",
      "36562              5.0               VMC  \n",
      "36698             89.0               IMC  \n",
      "36703              4.0               VMC  \n",
      "36779              0.0               VMC  \n",
      "36823            357.0               VMC  \n",
      "39848            414.0               VMC  \n",
      "39876             70.0               VMC  \n",
      "41621            299.0               VMC  \n",
      "44430              5.0               IMC  \n",
      "45315              3.0               VMC  \n",
      "45617             88.0               VMC  \n",
      "47877              5.0               VMC  \n",
      "65318              0.0               VMC  \n",
      "71963              0.0               VMC  \n"
     ]
    }
   ],
   "source": [
    "safest_aircraft = data[(data['Number.of.Engines'] == 4) & (data['Engine.Type'] == 'Turbo Jet')]\n",
    "print (safest_aircraft)"
   ]
  },
  {
   "cell_type": "code",
   "execution_count": 146,
   "metadata": {},
   "outputs": [
    {
     "data": {
      "text/plain": [
       "DC-8-63         3\n",
       "DC-8-61         2\n",
       "KC-135A         2\n",
       "747-136         2\n",
       "DC-8-63F        2\n",
       "P2V-7           2\n",
       "DC-8-52         1\n",
       "747-269BC       1\n",
       "DC-8F-55        1\n",
       "BAE 146-200A    1\n",
       "747-251B        1\n",
       "DC-8-54F        1\n",
       "BAE-146-300     1\n",
       "DC8-55          1\n",
       "707-123B        1\n",
       "DC-8            1\n",
       "EC-135          1\n",
       "747-300         1\n",
       "DC-8-71         1\n",
       "L-1329          1\n",
       "707-321B        1\n",
       "DC 8-61         1\n",
       "747-100         1\n",
       "747-121         1\n",
       "DHC-7-102       1\n",
       "747-238B        1\n",
       "A-340-200       1\n",
       "DC-8-71F        1\n",
       "Name: Model, dtype: int64"
      ]
     },
     "execution_count": 146,
     "metadata": {},
     "output_type": "execute_result"
    }
   ],
   "source": [
    "safest_aircraft['Model'].value_counts()"
   ]
  },
  {
   "cell_type": "code",
   "execution_count": 147,
   "metadata": {},
   "outputs": [
    {
     "name": "stdout",
     "output_type": "stream",
     "text": [
      "       Event.Date Injury.Severity               Make         Model  \\\n",
      "669    1982-03-24       Non-Fatal             Boeing      707-123B   \n",
      "1347   1982-05-27        Incident            Douglas       DC-8-61   \n",
      "4080   1983-03-11        Incident  Mcdonnell Douglas       DC 8-61   \n",
      "5338   1983-07-05        Incident            Douglas          DC-8   \n",
      "5529   1983-07-20        Incident            Douglas       DC-8-71   \n",
      "7156   1984-01-01        Incident             Boeing       747-121   \n",
      "8249   1984-05-15        Incident       De Havilland     DHC-7-102   \n",
      "9031   1984-07-16        Incident             Boeing       KC-135A   \n",
      "17656  1987-06-02        Incident             Boeing        EC-135   \n",
      "21497  1988-09-21        Incident             Boeing       747-100   \n",
      "25336  1990-04-24        Incident             Boeing      707-321B   \n",
      "30240  1992-04-23       Non-Fatal  Mcdonnell Douglas      DC-8F-55   \n",
      "31919  1992-12-09       Non-Fatal            Douglas       DC-8-52   \n",
      "32079  1993-01-15        Incident  Mcdonnell Douglas        DC8-55   \n",
      "32517  1993-04-12        Incident             Boeing     747-269BC   \n",
      "33571  1993-08-18       Non-Fatal            Douglas       DC-8-61   \n",
      "33799  1993-09-15        Incident            Douglas       DC-8-63   \n",
      "36328  1994-11-02        Incident             Boeing      747-251B   \n",
      "36451  1994-11-30       Non-Fatal            Douglas      DC-8-71F   \n",
      "36562  1994-12-25        Incident            Douglas      DC-8-54F   \n",
      "36698  1995-01-27        Incident  British Aerospace   BAE-146-300   \n",
      "36703  1995-01-28       Non-Fatal             Boeing      747-238B   \n",
      "36823  1995-02-25        Incident             Boeing       747-136   \n",
      "39848  1996-06-17        Incident             Boeing       747-136   \n",
      "39876  1996-06-21       Non-Fatal   Airbus Industrie     A-340-200   \n",
      "41621  1997-04-20        Incident             Boeing       747-300   \n",
      "44430  1998-07-18        Incident  Mcdonnell Douglas      DC-8-63F   \n",
      "45315  1998-11-27       Non-Fatal           Lockheed        L-1329   \n",
      "45617  1999-02-11        Incident  British Aerospace  BAE 146-200A   \n",
      "47877  2000-02-19       Non-Fatal  Mcdonnell Douglas      DC-8-63F   \n",
      "\n",
      "       Number.of.Engines Engine.Type Purpose.of.flight  Total.Fatal.Injuries  \\\n",
      "669                  4.0   Turbo Jet             Ferry                   0.0   \n",
      "1347                 4.0   Turbo Jet           Unknown                   0.0   \n",
      "4080                 4.0   Turbo Jet           Unknown                   0.0   \n",
      "5338                 4.0   Turbo Jet           Unknown                   0.0   \n",
      "5529                 4.0   Turbo Jet           Unknown                   0.0   \n",
      "7156                 4.0   Turbo Jet           Unknown                   0.0   \n",
      "8249                 4.0   Turbo Jet           Unknown                   0.0   \n",
      "9031                 4.0   Turbo Jet           Unknown                   0.0   \n",
      "17656                4.0   Turbo Jet           Unknown                   0.0   \n",
      "21497                4.0   Turbo Jet           Unknown                   0.0   \n",
      "25336                4.0   Turbo Jet           Unknown                   0.0   \n",
      "30240                4.0   Turbo Jet           Unknown                   0.0   \n",
      "31919                4.0   Turbo Jet           Unknown                   0.0   \n",
      "32079                4.0   Turbo Jet           Unknown                   0.0   \n",
      "32517                4.0   Turbo Jet           Unknown                   0.0   \n",
      "33571                4.0   Turbo Jet           Unknown                   0.0   \n",
      "33799                4.0   Turbo Jet           Unknown                   0.0   \n",
      "36328                4.0   Turbo Jet       Positioning                   0.0   \n",
      "36451                4.0   Turbo Jet           Unknown                   0.0   \n",
      "36562                4.0   Turbo Jet           Unknown                   0.0   \n",
      "36698                4.0   Turbo Jet           Unknown                   0.0   \n",
      "36703                4.0   Turbo Jet       Positioning                   0.0   \n",
      "36823                4.0   Turbo Jet           Unknown                   0.0   \n",
      "39848                4.0   Turbo Jet           Unknown                   0.0   \n",
      "39876                4.0   Turbo Jet           Unknown                   0.0   \n",
      "41621                4.0   Turbo Jet           Unknown                   0.0   \n",
      "44430                4.0   Turbo Jet           Unknown                   0.0   \n",
      "45315                4.0   Turbo Jet          Business                   0.0   \n",
      "45617                4.0   Turbo Jet           Unknown                   0.0   \n",
      "47877                4.0   Turbo Jet           Unknown                   0.0   \n",
      "\n",
      "       Total.Serious.Injuries  Total.Minor.Injuries  Total.Uninjured  \\\n",
      "669                       0.0                   0.0              7.0   \n",
      "1347                      0.0                  17.0            129.0   \n",
      "4080                      0.0                   0.0            186.0   \n",
      "5338                      0.0                   0.0            122.0   \n",
      "5529                      0.0                   0.0            102.0   \n",
      "7156                      0.0                   1.0            495.0   \n",
      "8249                      0.0                   0.0             25.0   \n",
      "9031                      0.0                   0.0             45.0   \n",
      "17656                     0.0                   0.0             72.0   \n",
      "21497                     0.0                  10.0            221.0   \n",
      "25336                     0.0                   0.0              3.0   \n",
      "30240                     0.0                   0.0              6.0   \n",
      "31919                     0.0                   0.0              3.0   \n",
      "32079                     0.0                   0.0              3.0   \n",
      "32517                     0.0                   0.0             40.0   \n",
      "33571                     3.0                   0.0              0.0   \n",
      "33799                     0.0                   0.0              7.0   \n",
      "36328                     0.0                   0.0              3.0   \n",
      "36451                     1.0                   0.0              6.0   \n",
      "36562                     0.0                   0.0              5.0   \n",
      "36698                     0.0                   0.0             89.0   \n",
      "36703                     0.0                   0.0              4.0   \n",
      "36823                     0.0                   0.0            357.0   \n",
      "39848                     0.0                   0.0            414.0   \n",
      "39876                     4.0                   2.0             70.0   \n",
      "41621                     0.0                   0.0            299.0   \n",
      "44430                     0.0                   0.0              5.0   \n",
      "45315                     0.0                   0.0              3.0   \n",
      "45617                     0.0                   0.0             88.0   \n",
      "47877                     0.0                   0.0              5.0   \n",
      "\n",
      "      Weather.Condition  \n",
      "669                 VMC  \n",
      "1347                VMC  \n",
      "4080                VMC  \n",
      "5338                VMC  \n",
      "5529                VMC  \n",
      "7156                VMC  \n",
      "8249                VMC  \n",
      "9031                VMC  \n",
      "17656               VMC  \n",
      "21497               IMC  \n",
      "25336               VMC  \n",
      "30240               VMC  \n",
      "31919               VMC  \n",
      "32079               VMC  \n",
      "32517               VMC  \n",
      "33571               VMC  \n",
      "33799               IMC  \n",
      "36328               VMC  \n",
      "36451               VMC  \n",
      "36562               VMC  \n",
      "36698               IMC  \n",
      "36703               VMC  \n",
      "36823               VMC  \n",
      "39848               VMC  \n",
      "39876               VMC  \n",
      "41621               VMC  \n",
      "44430               IMC  \n",
      "45315               VMC  \n",
      "45617               VMC  \n",
      "47877               VMC  \n"
     ]
    }
   ],
   "source": [
    "safest_aircraft = safest_aircraft[(safest_aircraft['Total.Fatal.Injuries'] == 0.0)]\n",
    "print (safest_aircraft)"
   ]
  },
  {
   "cell_type": "code",
   "execution_count": 148,
   "metadata": {},
   "outputs": [
    {
     "name": "stdout",
     "output_type": "stream",
     "text": [
      "       Event.Date Injury.Severity               Make         Model  \\\n",
      "669    1982-03-24       Non-Fatal             Boeing      707-123B   \n",
      "1347   1982-05-27        Incident            Douglas       DC-8-61   \n",
      "4080   1983-03-11        Incident  Mcdonnell Douglas       DC 8-61   \n",
      "5338   1983-07-05        Incident            Douglas          DC-8   \n",
      "5529   1983-07-20        Incident            Douglas       DC-8-71   \n",
      "7156   1984-01-01        Incident             Boeing       747-121   \n",
      "8249   1984-05-15        Incident       De Havilland     DHC-7-102   \n",
      "9031   1984-07-16        Incident             Boeing       KC-135A   \n",
      "17656  1987-06-02        Incident             Boeing        EC-135   \n",
      "21497  1988-09-21        Incident             Boeing       747-100   \n",
      "25336  1990-04-24        Incident             Boeing      707-321B   \n",
      "30240  1992-04-23       Non-Fatal  Mcdonnell Douglas      DC-8F-55   \n",
      "31919  1992-12-09       Non-Fatal            Douglas       DC-8-52   \n",
      "32079  1993-01-15        Incident  Mcdonnell Douglas        DC8-55   \n",
      "32517  1993-04-12        Incident             Boeing     747-269BC   \n",
      "33799  1993-09-15        Incident            Douglas       DC-8-63   \n",
      "36328  1994-11-02        Incident             Boeing      747-251B   \n",
      "36562  1994-12-25        Incident            Douglas      DC-8-54F   \n",
      "36698  1995-01-27        Incident  British Aerospace   BAE-146-300   \n",
      "36703  1995-01-28       Non-Fatal             Boeing      747-238B   \n",
      "36823  1995-02-25        Incident             Boeing       747-136   \n",
      "39848  1996-06-17        Incident             Boeing       747-136   \n",
      "41621  1997-04-20        Incident             Boeing       747-300   \n",
      "44430  1998-07-18        Incident  Mcdonnell Douglas      DC-8-63F   \n",
      "45315  1998-11-27       Non-Fatal           Lockheed        L-1329   \n",
      "45617  1999-02-11        Incident  British Aerospace  BAE 146-200A   \n",
      "47877  2000-02-19       Non-Fatal  Mcdonnell Douglas      DC-8-63F   \n",
      "\n",
      "       Number.of.Engines Engine.Type Purpose.of.flight  Total.Fatal.Injuries  \\\n",
      "669                  4.0   Turbo Jet             Ferry                   0.0   \n",
      "1347                 4.0   Turbo Jet           Unknown                   0.0   \n",
      "4080                 4.0   Turbo Jet           Unknown                   0.0   \n",
      "5338                 4.0   Turbo Jet           Unknown                   0.0   \n",
      "5529                 4.0   Turbo Jet           Unknown                   0.0   \n",
      "7156                 4.0   Turbo Jet           Unknown                   0.0   \n",
      "8249                 4.0   Turbo Jet           Unknown                   0.0   \n",
      "9031                 4.0   Turbo Jet           Unknown                   0.0   \n",
      "17656                4.0   Turbo Jet           Unknown                   0.0   \n",
      "21497                4.0   Turbo Jet           Unknown                   0.0   \n",
      "25336                4.0   Turbo Jet           Unknown                   0.0   \n",
      "30240                4.0   Turbo Jet           Unknown                   0.0   \n",
      "31919                4.0   Turbo Jet           Unknown                   0.0   \n",
      "32079                4.0   Turbo Jet           Unknown                   0.0   \n",
      "32517                4.0   Turbo Jet           Unknown                   0.0   \n",
      "33799                4.0   Turbo Jet           Unknown                   0.0   \n",
      "36328                4.0   Turbo Jet       Positioning                   0.0   \n",
      "36562                4.0   Turbo Jet           Unknown                   0.0   \n",
      "36698                4.0   Turbo Jet           Unknown                   0.0   \n",
      "36703                4.0   Turbo Jet       Positioning                   0.0   \n",
      "36823                4.0   Turbo Jet           Unknown                   0.0   \n",
      "39848                4.0   Turbo Jet           Unknown                   0.0   \n",
      "41621                4.0   Turbo Jet           Unknown                   0.0   \n",
      "44430                4.0   Turbo Jet           Unknown                   0.0   \n",
      "45315                4.0   Turbo Jet          Business                   0.0   \n",
      "45617                4.0   Turbo Jet           Unknown                   0.0   \n",
      "47877                4.0   Turbo Jet           Unknown                   0.0   \n",
      "\n",
      "       Total.Serious.Injuries  Total.Minor.Injuries  Total.Uninjured  \\\n",
      "669                       0.0                   0.0              7.0   \n",
      "1347                      0.0                  17.0            129.0   \n",
      "4080                      0.0                   0.0            186.0   \n",
      "5338                      0.0                   0.0            122.0   \n",
      "5529                      0.0                   0.0            102.0   \n",
      "7156                      0.0                   1.0            495.0   \n",
      "8249                      0.0                   0.0             25.0   \n",
      "9031                      0.0                   0.0             45.0   \n",
      "17656                     0.0                   0.0             72.0   \n",
      "21497                     0.0                  10.0            221.0   \n",
      "25336                     0.0                   0.0              3.0   \n",
      "30240                     0.0                   0.0              6.0   \n",
      "31919                     0.0                   0.0              3.0   \n",
      "32079                     0.0                   0.0              3.0   \n",
      "32517                     0.0                   0.0             40.0   \n",
      "33799                     0.0                   0.0              7.0   \n",
      "36328                     0.0                   0.0              3.0   \n",
      "36562                     0.0                   0.0              5.0   \n",
      "36698                     0.0                   0.0             89.0   \n",
      "36703                     0.0                   0.0              4.0   \n",
      "36823                     0.0                   0.0            357.0   \n",
      "39848                     0.0                   0.0            414.0   \n",
      "41621                     0.0                   0.0            299.0   \n",
      "44430                     0.0                   0.0              5.0   \n",
      "45315                     0.0                   0.0              3.0   \n",
      "45617                     0.0                   0.0             88.0   \n",
      "47877                     0.0                   0.0              5.0   \n",
      "\n",
      "      Weather.Condition  \n",
      "669                 VMC  \n",
      "1347                VMC  \n",
      "4080                VMC  \n",
      "5338                VMC  \n",
      "5529                VMC  \n",
      "7156                VMC  \n",
      "8249                VMC  \n",
      "9031                VMC  \n",
      "17656               VMC  \n",
      "21497               IMC  \n",
      "25336               VMC  \n",
      "30240               VMC  \n",
      "31919               VMC  \n",
      "32079               VMC  \n",
      "32517               VMC  \n",
      "33799               IMC  \n",
      "36328               VMC  \n",
      "36562               VMC  \n",
      "36698               IMC  \n",
      "36703               VMC  \n",
      "36823               VMC  \n",
      "39848               VMC  \n",
      "41621               VMC  \n",
      "44430               IMC  \n",
      "45315               VMC  \n",
      "45617               VMC  \n",
      "47877               VMC  \n"
     ]
    }
   ],
   "source": [
    "safest_aircraft = safest_aircraft[(safest_aircraft['Total.Serious.Injuries'] == 0.0)]\n",
    "print (safest_aircraft)"
   ]
  },
  {
   "cell_type": "code",
   "execution_count": 139,
   "metadata": {},
   "outputs": [
    {
     "name": "stdout",
     "output_type": "stream",
     "text": [
      "       Event.Date Injury.Severity     Make     Model  Number.of.Engines  \\\n",
      "3374   1982-11-27       Non-Fatal   Boeing  707-323C                4.0   \n",
      "4405   1983-04-16        Incident  Douglas  DC-8-63F                4.0   \n",
      "5119   1983-06-20        Incident   Boeing     B-747                4.0   \n",
      "5120   1983-06-20        Incident   Boeing     B-747                4.0   \n",
      "6650   1983-10-25       Non-Fatal  Douglas  DC-8-63F                4.0   \n",
      "...           ...             ...      ...       ...                ...   \n",
      "45531  1999-01-19        Incident   Boeing   747-100                4.0   \n",
      "46711  1999-07-29       Non-Fatal   Boeing  747-269B                4.0   \n",
      "48257  2000-04-27       Non-Fatal  Douglas  DC-8-62F                4.0   \n",
      "48614  2000-06-17        Incident  Douglas   DC-8-73                4.0   \n",
      "49556  2000-10-15        Incident   Boeing  747-251F                4.0   \n",
      "\n",
      "      Engine.Type Purpose.of.flight  Total.Fatal.Injuries  \\\n",
      "3374    Turbo Fan           Unknown                   0.0   \n",
      "4405    Turbo Fan           Unknown                   0.0   \n",
      "5119    Turbo Fan           Unknown                   0.0   \n",
      "5120    Turbo Fan           Unknown                   0.0   \n",
      "6650    Turbo Fan       Positioning                   0.0   \n",
      "...           ...               ...                   ...   \n",
      "45531   Turbo Fan           Unknown                   0.0   \n",
      "46711   Turbo Fan           Unknown                   0.0   \n",
      "48257   Turbo Fan           Unknown                   0.0   \n",
      "48614   Turbo Fan           Unknown                   0.0   \n",
      "49556   Turbo Fan           Unknown                   0.0   \n",
      "\n",
      "       Total.Serious.Injuries  Total.Minor.Injuries  Total.Uninjured  \\\n",
      "3374                      0.0                   0.0            116.0   \n",
      "4405                      0.0                   0.0              3.0   \n",
      "5119                      0.0                   0.0            440.0   \n",
      "5120                      0.0                   0.0            440.0   \n",
      "6650                      0.0                   0.0              7.0   \n",
      "...                       ...                   ...              ...   \n",
      "45531                     0.0                   0.0              4.0   \n",
      "46711                     0.0                   0.0              5.0   \n",
      "48257                     0.0                   0.0              5.0   \n",
      "48614                     0.0                   0.0              5.0   \n",
      "49556                     0.0                   0.0              3.0   \n",
      "\n",
      "      Weather.Condition  \n",
      "3374                VMC  \n",
      "4405                VMC  \n",
      "5119                VMC  \n",
      "5120                VMC  \n",
      "6650                IMC  \n",
      "...                 ...  \n",
      "45531               VMC  \n",
      "46711               VMC  \n",
      "48257               VMC  \n",
      "48614               VMC  \n",
      "49556               VMC  \n",
      "\n",
      "[107 rows x 12 columns]\n"
     ]
    }
   ],
   "source": [
    "safest_aircraft = safest_aircraft[(safest_aircraft['Total.Minor.Injuries'] == 0.0)]\n",
    "print (safest_aircraft)"
   ]
  },
  {
   "cell_type": "code",
   "execution_count": 149,
   "metadata": {},
   "outputs": [
    {
     "data": {
      "text/plain": [
       "747-136         2\n",
       "DC-8-63F        2\n",
       "BAE 146-200A    1\n",
       "707-123B        1\n",
       "707-321B        1\n",
       "DC-8-63         1\n",
       "BAE-146-300     1\n",
       "DC 8-61         1\n",
       "KC-135A         1\n",
       "DC-8-52         1\n",
       "DC-8-54F        1\n",
       "747-121         1\n",
       "L-1329          1\n",
       "747-251B        1\n",
       "EC-135          1\n",
       "DHC-7-102       1\n",
       "DC-8-61         1\n",
       "747-100         1\n",
       "DC8-55          1\n",
       "747-269BC       1\n",
       "DC-8-71         1\n",
       "747-300         1\n",
       "DC-8            1\n",
       "747-238B        1\n",
       "DC-8F-55        1\n",
       "Name: Model, dtype: int64"
      ]
     },
     "execution_count": 149,
     "metadata": {},
     "output_type": "execute_result"
    }
   ],
   "source": [
    "safest_aircraft['Model'].value_counts()"
   ]
  },
  {
   "cell_type": "code",
   "execution_count": 80,
   "metadata": {},
   "outputs": [
    {
     "data": {
      "text/plain": [
       "Incident     84\n",
       "Non-Fatal    23\n",
       "Name: Injury.Severity, dtype: int64"
      ]
     },
     "execution_count": 80,
     "metadata": {},
     "output_type": "execute_result"
    }
   ],
   "source": [
    "safest_aircraft['Injury.Severity'].value_counts()"
   ]
  },
  {
   "cell_type": "code",
   "execution_count": 150,
   "metadata": {},
   "outputs": [
    {
     "data": {
      "text/plain": [
       "<function matplotlib.pyplot.show(close=None, block=None)>"
      ]
     },
     "execution_count": 150,
     "metadata": {},
     "output_type": "execute_result"
    },
    {
     "data": {
      "image/png": "[encoded data removed]",
      "text/plain": [
       "<Figure size 432x288 with 1 Axes>"
      ]
     },
     "metadata": {
      "needs_background": "light"
     },
     "output_type": "display_data"
    }
   ],
   "source": [
    "safest_aircraft.plot.scatter(x='Model', y='Injury.Severity')\n",
    "plt.title('Injury Severity By Aircraft Model')\n",
    "plt.xlabel('Aircraft Model')\n",
    "plt.ylabel('Injury Severity')\n",
    "plt.show"
   ]
  },
  {
   "cell_type": "code",
   "execution_count": 151,
   "metadata": {},
   "outputs": [
    {
     "data": {
      "text/html": [
       "<div>\n",
       "<style scoped>\n",
       "    .dataframe tbody tr th:only-of-type {\n",
       "        vertical-align: middle;\n",
       "    }\n",
       "\n",
       "    .dataframe tbody tr th {\n",
       "        vertical-align: top;\n",
       "    }\n",
       "\n",
       "    .dataframe thead th {\n",
       "        text-align: right;\n",
       "    }\n",
       "</style>\n",
       "<table border=\"1\" class=\"dataframe\">\n",
       "  <thead>\n",
       "    <tr style=\"text-align: right;\">\n",
       "      <th></th>\n",
       "      <th>Event.Date</th>\n",
       "      <th>Injury.Severity</th>\n",
       "      <th>Make</th>\n",
       "      <th>Model</th>\n",
       "      <th>Number.of.Engines</th>\n",
       "      <th>Engine.Type</th>\n",
       "      <th>Purpose.of.flight</th>\n",
       "      <th>Total.Fatal.Injuries</th>\n",
       "      <th>Total.Serious.Injuries</th>\n",
       "      <th>Total.Minor.Injuries</th>\n",
       "      <th>Total.Uninjured</th>\n",
       "      <th>Weather.Condition</th>\n",
       "    </tr>\n",
       "  </thead>\n",
       "  <tbody>\n",
       "    <tr>\n",
       "      <th>669</th>\n",
       "      <td>1982-03-24</td>\n",
       "      <td>Non-Fatal</td>\n",
       "      <td>Boeing</td>\n",
       "      <td>707-123B</td>\n",
       "      <td>4.0</td>\n",
       "      <td>Turbo Jet</td>\n",
       "      <td>Ferry</td>\n",
       "      <td>0.0</td>\n",
       "      <td>0.0</td>\n",
       "      <td>0.0</td>\n",
       "      <td>7.0</td>\n",
       "      <td>VMC</td>\n",
       "    </tr>\n",
       "    <tr>\n",
       "      <th>1347</th>\n",
       "      <td>1982-05-27</td>\n",
       "      <td>Incident</td>\n",
       "      <td>Douglas</td>\n",
       "      <td>DC-8-61</td>\n",
       "      <td>4.0</td>\n",
       "      <td>Turbo Jet</td>\n",
       "      <td>Unknown</td>\n",
       "      <td>0.0</td>\n",
       "      <td>0.0</td>\n",
       "      <td>17.0</td>\n",
       "      <td>129.0</td>\n",
       "      <td>VMC</td>\n",
       "    </tr>\n",
       "    <tr>\n",
       "      <th>4080</th>\n",
       "      <td>1983-03-11</td>\n",
       "      <td>Incident</td>\n",
       "      <td>Mcdonnell Douglas</td>\n",
       "      <td>DC 8-61</td>\n",
       "      <td>4.0</td>\n",
       "      <td>Turbo Jet</td>\n",
       "      <td>Unknown</td>\n",
       "      <td>0.0</td>\n",
       "      <td>0.0</td>\n",
       "      <td>0.0</td>\n",
       "      <td>186.0</td>\n",
       "      <td>VMC</td>\n",
       "    </tr>\n",
       "    <tr>\n",
       "      <th>5338</th>\n",
       "      <td>1983-07-05</td>\n",
       "      <td>Incident</td>\n",
       "      <td>Douglas</td>\n",
       "      <td>DC-8</td>\n",
       "      <td>4.0</td>\n",
       "      <td>Turbo Jet</td>\n",
       "      <td>Unknown</td>\n",
       "      <td>0.0</td>\n",
       "      <td>0.0</td>\n",
       "      <td>0.0</td>\n",
       "      <td>122.0</td>\n",
       "      <td>VMC</td>\n",
       "    </tr>\n",
       "    <tr>\n",
       "      <th>5529</th>\n",
       "      <td>1983-07-20</td>\n",
       "      <td>Incident</td>\n",
       "      <td>Douglas</td>\n",
       "      <td>DC-8-71</td>\n",
       "      <td>4.0</td>\n",
       "      <td>Turbo Jet</td>\n",
       "      <td>Unknown</td>\n",
       "      <td>0.0</td>\n",
       "      <td>0.0</td>\n",
       "      <td>0.0</td>\n",
       "      <td>102.0</td>\n",
       "      <td>VMC</td>\n",
       "    </tr>\n",
       "  </tbody>\n",
       "</table>\n",
       "</div>"
      ],
      "text/plain": [
       "      Event.Date Injury.Severity               Make     Model  \\\n",
       "669   1982-03-24       Non-Fatal             Boeing  707-123B   \n",
       "1347  1982-05-27        Incident            Douglas   DC-8-61   \n",
       "4080  1983-03-11        Incident  Mcdonnell Douglas   DC 8-61   \n",
       "5338  1983-07-05        Incident            Douglas      DC-8   \n",
       "5529  1983-07-20        Incident            Douglas   DC-8-71   \n",
       "\n",
       "      Number.of.Engines Engine.Type Purpose.of.flight  Total.Fatal.Injuries  \\\n",
       "669                 4.0   Turbo Jet             Ferry                   0.0   \n",
       "1347                4.0   Turbo Jet           Unknown                   0.0   \n",
       "4080                4.0   Turbo Jet           Unknown                   0.0   \n",
       "5338                4.0   Turbo Jet           Unknown                   0.0   \n",
       "5529                4.0   Turbo Jet           Unknown                   0.0   \n",
       "\n",
       "      Total.Serious.Injuries  Total.Minor.Injuries  Total.Uninjured  \\\n",
       "669                      0.0                   0.0              7.0   \n",
       "1347                     0.0                  17.0            129.0   \n",
       "4080                     0.0                   0.0            186.0   \n",
       "5338                     0.0                   0.0            122.0   \n",
       "5529                     0.0                   0.0            102.0   \n",
       "\n",
       "     Weather.Condition  \n",
       "669                VMC  \n",
       "1347               VMC  \n",
       "4080               VMC  \n",
       "5338               VMC  \n",
       "5529               VMC  "
      ]
     },
     "execution_count": 151,
     "metadata": {},
     "output_type": "execute_result"
    }
   ],
   "source": [
    "safest_aircraft.head()"
   ]
  },
  {
   "cell_type": "code",
   "execution_count": null,
   "metadata": {},
   "outputs": [],
   "source": []
  },
  {
   "cell_type": "markdown",
   "metadata": {},
   "source": [
    "# Conclusions"
   ]
  },
  {
   "cell_type": "markdown",
   "metadata": {},
   "source": [
    "1) Aircraft with multiple engines and specifically 4 engines had the least number of incidents.  Overwhelmingly, aircraft involved in incidents are single engine aircraft.\n",
    "2) Turbo fan engines appear most reliable, though avoiding reciprocating engines seems most crucial when it comes to engine type.\n",
    "3)"
   ]
  },
  {
   "cell_type": "markdown",
   "metadata": {},
   "source": [
    "## Limitations"
   ]
  },
  {
   "cell_type": "markdown",
   "metadata": {},
   "source": [
    "The dataset outlines incidents only and does not include information on the total number of aircraft or total flights, leaving room for more precision using a more complete dataset."
   ]
  },
  {
   "cell_type": "markdown",
   "metadata": {},
   "source": [
    "## Recommendations"
   ]
  },
  {
   "cell_type": "markdown",
   "metadata": {},
   "source": [
    "1) Aircraft with multiple engines and specifically 4 engines are recommended.  2) Turbo fan engines are recommended due to their reliability and lack of incidents associated as outlined in the data. 3)"
   ]
  },
  {
   "cell_type": "markdown",
   "metadata": {},
   "source": [
    "## Next Steps"
   ]
  },
  {
   "cell_type": "markdown",
   "metadata": {},
   "source": [
    "Evaluating cost and other variables will be crucial, such as ease of service and repair, as well as ability to modify for business purposes, since these considerations will factor into choosing aircraft to purchase."
   ]
  },
  {
   "cell_type": "code",
   "execution_count": null,
   "metadata": {},
   "outputs": [],
   "source": []
  }
 ],
 "metadata": {
  "kernelspec": {
   "display_name": "Python (learn-env)",
   "language": "python",
   "name": "learn-env"
  },
  "language_info": {
   "codemirror_mode": {
    "name": "ipython",
    "version": 3
   },
   "file_extension": ".py",
   "mimetype": "text/x-python",
   "name": "python",
   "nbconvert_exporter": "python",
   "pygments_lexer": "ipython3",
   "version": "3.8.5"
  }
 },
 "nbformat": 4,
 "nbformat_minor": 4
}
