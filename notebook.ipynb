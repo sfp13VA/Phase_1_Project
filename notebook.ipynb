{
 "cells": [
  {
   "cell_type": "markdown",
   "metadata": {},
   "source": [
    "# Business Understanding"
   ]
  },
  {
   "cell_type": "markdown",
   "metadata": {},
   "source": [
    "The company is expanding into the shipping industry, necessitating purchasing and operating airplanes for shipping cargo purposes.  The company is unfamiliar with the potential risks of different types of aircraft, so here we are looking to determine which aircraft present the lowest risk in order to begin the new shipping endeavor."
   ]
  },
  {
   "cell_type": "markdown",
   "metadata": {},
   "source": [
    "# Data Understanding"
   ]
  },
  {
   "cell_type": "markdown",
   "metadata": {},
   "source": [
    "Here we are working with a dataset provided by the National Transportation Safety Board which includes aviation accident data from 1962 through 2003 about civil aviation accidents and selected incidents in the United States and international waters.  Every incident has a unique event ID, and the data files provide the dates and types of each event, as well as other pertinent safety information (e.g. aircraft make and model, number of injuries)."
   ]
  },
  {
   "cell_type": "code",
   "execution_count": 209,
   "metadata": {},
   "outputs": [],
   "source": [
    "import pandas as pd\n",
    "import numpy as np"
   ]
  },
  {
   "cell_type": "code",
   "execution_count": 210,
   "metadata": {},
   "outputs": [],
   "source": [
    "data = pd.read_csv('./data/Aviation_Data.csv', low_memory=False)"
   ]
  },
  {
   "cell_type": "code",
   "execution_count": 52,
   "metadata": {},
   "outputs": [
    {
     "name": "stdout",
     "output_type": "stream",
     "text": [
      "<class 'pandas.core.frame.DataFrame'>\n",
      "RangeIndex: 90348 entries, 0 to 90347\n",
      "Data columns (total 31 columns):\n",
      " #   Column                  Non-Null Count  Dtype  \n",
      "---  ------                  --------------  -----  \n",
      " 0   Event.Id                88889 non-null  object \n",
      " 1   Investigation.Type      90348 non-null  object \n",
      " 2   Accident.Number         88889 non-null  object \n",
      " 3   Event.Date              88889 non-null  object \n",
      " 4   Location                88837 non-null  object \n",
      " 5   Country                 88663 non-null  object \n",
      " 6   Latitude                34382 non-null  object \n",
      " 7   Longitude               34373 non-null  object \n",
      " 8   Airport.Code            50249 non-null  object \n",
      " 9   Airport.Name            52790 non-null  object \n",
      " 10  Injury.Severity         87889 non-null  object \n",
      " 11  Aircraft.damage         85695 non-null  object \n",
      " 12  Aircraft.Category       32287 non-null  object \n",
      " 13  Registration.Number     87572 non-null  object \n",
      " 14  Make                    88826 non-null  object \n",
      " 15  Model                   88797 non-null  object \n",
      " 16  Amateur.Built           88787 non-null  object \n",
      " 17  Number.of.Engines       82805 non-null  float64\n",
      " 18  Engine.Type             81812 non-null  object \n",
      " 19  FAR.Description         32023 non-null  object \n",
      " 20  Schedule                12582 non-null  object \n",
      " 21  Purpose.of.flight       82697 non-null  object \n",
      " 22  Air.carrier             16648 non-null  object \n",
      " 23  Total.Fatal.Injuries    77488 non-null  float64\n",
      " 24  Total.Serious.Injuries  76379 non-null  float64\n",
      " 25  Total.Minor.Injuries    76956 non-null  float64\n",
      " 26  Total.Uninjured         82977 non-null  float64\n",
      " 27  Weather.Condition       84397 non-null  object \n",
      " 28  Broad.phase.of.flight   61724 non-null  object \n",
      " 29  Report.Status           82508 non-null  object \n",
      " 30  Publication.Date        73659 non-null  object \n",
      "dtypes: float64(5), object(26)\n",
      "memory usage: 21.4+ MB\n"
     ]
    }
   ],
   "source": [
    "data.info()"
   ]
  },
  {
   "cell_type": "code",
   "execution_count": 4,
   "metadata": {},
   "outputs": [
    {
     "data": {
      "text/html": [
       "<div>\n",
       "<style scoped>\n",
       "    .dataframe tbody tr th:only-of-type {\n",
       "        vertical-align: middle;\n",
       "    }\n",
       "\n",
       "    .dataframe tbody tr th {\n",
       "        vertical-align: top;\n",
       "    }\n",
       "\n",
       "    .dataframe thead th {\n",
       "        text-align: right;\n",
       "    }\n",
       "</style>\n",
       "<table border=\"1\" class=\"dataframe\">\n",
       "  <thead>\n",
       "    <tr style=\"text-align: right;\">\n",
       "      <th></th>\n",
       "      <th>Event.Id</th>\n",
       "      <th>Investigation.Type</th>\n",
       "      <th>Accident.Number</th>\n",
       "      <th>Event.Date</th>\n",
       "      <th>Location</th>\n",
       "      <th>Country</th>\n",
       "      <th>Latitude</th>\n",
       "      <th>Longitude</th>\n",
       "      <th>Airport.Code</th>\n",
       "      <th>Airport.Name</th>\n",
       "      <th>...</th>\n",
       "      <th>Purpose.of.flight</th>\n",
       "      <th>Air.carrier</th>\n",
       "      <th>Total.Fatal.Injuries</th>\n",
       "      <th>Total.Serious.Injuries</th>\n",
       "      <th>Total.Minor.Injuries</th>\n",
       "      <th>Total.Uninjured</th>\n",
       "      <th>Weather.Condition</th>\n",
       "      <th>Broad.phase.of.flight</th>\n",
       "      <th>Report.Status</th>\n",
       "      <th>Publication.Date</th>\n",
       "    </tr>\n",
       "  </thead>\n",
       "  <tbody>\n",
       "    <tr>\n",
       "      <th>0</th>\n",
       "      <td>20001218X45444</td>\n",
       "      <td>Accident</td>\n",
       "      <td>SEA87LA080</td>\n",
       "      <td>1948-10-24</td>\n",
       "      <td>MOOSE CREEK, ID</td>\n",
       "      <td>United States</td>\n",
       "      <td>NaN</td>\n",
       "      <td>NaN</td>\n",
       "      <td>NaN</td>\n",
       "      <td>NaN</td>\n",
       "      <td>...</td>\n",
       "      <td>Personal</td>\n",
       "      <td>NaN</td>\n",
       "      <td>2.0</td>\n",
       "      <td>0.0</td>\n",
       "      <td>0.0</td>\n",
       "      <td>0.0</td>\n",
       "      <td>UNK</td>\n",
       "      <td>Cruise</td>\n",
       "      <td>Probable Cause</td>\n",
       "      <td>NaN</td>\n",
       "    </tr>\n",
       "    <tr>\n",
       "      <th>1</th>\n",
       "      <td>20001218X45447</td>\n",
       "      <td>Accident</td>\n",
       "      <td>LAX94LA336</td>\n",
       "      <td>1962-07-19</td>\n",
       "      <td>BRIDGEPORT, CA</td>\n",
       "      <td>United States</td>\n",
       "      <td>NaN</td>\n",
       "      <td>NaN</td>\n",
       "      <td>NaN</td>\n",
       "      <td>NaN</td>\n",
       "      <td>...</td>\n",
       "      <td>Personal</td>\n",
       "      <td>NaN</td>\n",
       "      <td>4.0</td>\n",
       "      <td>0.0</td>\n",
       "      <td>0.0</td>\n",
       "      <td>0.0</td>\n",
       "      <td>UNK</td>\n",
       "      <td>Unknown</td>\n",
       "      <td>Probable Cause</td>\n",
       "      <td>19-09-1996</td>\n",
       "    </tr>\n",
       "    <tr>\n",
       "      <th>2</th>\n",
       "      <td>20061025X01555</td>\n",
       "      <td>Accident</td>\n",
       "      <td>NYC07LA005</td>\n",
       "      <td>1974-08-30</td>\n",
       "      <td>Saltville, VA</td>\n",
       "      <td>United States</td>\n",
       "      <td>36.922223</td>\n",
       "      <td>-81.878056</td>\n",
       "      <td>NaN</td>\n",
       "      <td>NaN</td>\n",
       "      <td>...</td>\n",
       "      <td>Personal</td>\n",
       "      <td>NaN</td>\n",
       "      <td>3.0</td>\n",
       "      <td>NaN</td>\n",
       "      <td>NaN</td>\n",
       "      <td>NaN</td>\n",
       "      <td>IMC</td>\n",
       "      <td>Cruise</td>\n",
       "      <td>Probable Cause</td>\n",
       "      <td>26-02-2007</td>\n",
       "    </tr>\n",
       "    <tr>\n",
       "      <th>3</th>\n",
       "      <td>20001218X45448</td>\n",
       "      <td>Accident</td>\n",
       "      <td>LAX96LA321</td>\n",
       "      <td>1977-06-19</td>\n",
       "      <td>EUREKA, CA</td>\n",
       "      <td>United States</td>\n",
       "      <td>NaN</td>\n",
       "      <td>NaN</td>\n",
       "      <td>NaN</td>\n",
       "      <td>NaN</td>\n",
       "      <td>...</td>\n",
       "      <td>Personal</td>\n",
       "      <td>NaN</td>\n",
       "      <td>2.0</td>\n",
       "      <td>0.0</td>\n",
       "      <td>0.0</td>\n",
       "      <td>0.0</td>\n",
       "      <td>IMC</td>\n",
       "      <td>Cruise</td>\n",
       "      <td>Probable Cause</td>\n",
       "      <td>12-09-2000</td>\n",
       "    </tr>\n",
       "    <tr>\n",
       "      <th>4</th>\n",
       "      <td>20041105X01764</td>\n",
       "      <td>Accident</td>\n",
       "      <td>CHI79FA064</td>\n",
       "      <td>1979-08-02</td>\n",
       "      <td>Canton, OH</td>\n",
       "      <td>United States</td>\n",
       "      <td>NaN</td>\n",
       "      <td>NaN</td>\n",
       "      <td>NaN</td>\n",
       "      <td>NaN</td>\n",
       "      <td>...</td>\n",
       "      <td>Personal</td>\n",
       "      <td>NaN</td>\n",
       "      <td>1.0</td>\n",
       "      <td>2.0</td>\n",
       "      <td>NaN</td>\n",
       "      <td>0.0</td>\n",
       "      <td>VMC</td>\n",
       "      <td>Approach</td>\n",
       "      <td>Probable Cause</td>\n",
       "      <td>16-04-1980</td>\n",
       "    </tr>\n",
       "  </tbody>\n",
       "</table>\n",
       "<p>5 rows × 31 columns</p>\n",
       "</div>"
      ],
      "text/plain": [
       "         Event.Id Investigation.Type Accident.Number  Event.Date  \\\n",
       "0  20001218X45444           Accident      SEA87LA080  1948-10-24   \n",
       "1  20001218X45447           Accident      LAX94LA336  1962-07-19   \n",
       "2  20061025X01555           Accident      NYC07LA005  1974-08-30   \n",
       "3  20001218X45448           Accident      LAX96LA321  1977-06-19   \n",
       "4  20041105X01764           Accident      CHI79FA064  1979-08-02   \n",
       "\n",
       "          Location        Country   Latitude   Longitude Airport.Code  \\\n",
       "0  MOOSE CREEK, ID  United States        NaN         NaN          NaN   \n",
       "1   BRIDGEPORT, CA  United States        NaN         NaN          NaN   \n",
       "2    Saltville, VA  United States  36.922223  -81.878056          NaN   \n",
       "3       EUREKA, CA  United States        NaN         NaN          NaN   \n",
       "4       Canton, OH  United States        NaN         NaN          NaN   \n",
       "\n",
       "  Airport.Name  ... Purpose.of.flight Air.carrier Total.Fatal.Injuries  \\\n",
       "0          NaN  ...          Personal         NaN                  2.0   \n",
       "1          NaN  ...          Personal         NaN                  4.0   \n",
       "2          NaN  ...          Personal         NaN                  3.0   \n",
       "3          NaN  ...          Personal         NaN                  2.0   \n",
       "4          NaN  ...          Personal         NaN                  1.0   \n",
       "\n",
       "  Total.Serious.Injuries Total.Minor.Injuries Total.Uninjured  \\\n",
       "0                    0.0                  0.0             0.0   \n",
       "1                    0.0                  0.0             0.0   \n",
       "2                    NaN                  NaN             NaN   \n",
       "3                    0.0                  0.0             0.0   \n",
       "4                    2.0                  NaN             0.0   \n",
       "\n",
       "  Weather.Condition  Broad.phase.of.flight   Report.Status Publication.Date  \n",
       "0               UNK                 Cruise  Probable Cause              NaN  \n",
       "1               UNK                Unknown  Probable Cause       19-09-1996  \n",
       "2               IMC                 Cruise  Probable Cause       26-02-2007  \n",
       "3               IMC                 Cruise  Probable Cause       12-09-2000  \n",
       "4               VMC               Approach  Probable Cause       16-04-1980  \n",
       "\n",
       "[5 rows x 31 columns]"
      ]
     },
     "execution_count": 4,
     "metadata": {},
     "output_type": "execute_result"
    }
   ],
   "source": [
    "data.head()"
   ]
  },
  {
   "cell_type": "code",
   "execution_count": 211,
   "metadata": {},
   "outputs": [
    {
     "name": "stderr",
     "output_type": "stream",
     "text": [
      "<ipython-input-211-ab274c447368>:2: FutureWarning: Treating datetime data as categorical rather than numeric in `.describe` is deprecated and will be removed in a future version of pandas. Specify `datetime_is_numeric=True` to silence this warning and adopt the future behavior now.\n",
      "  data['Event Date'].describe()\n"
     ]
    },
    {
     "data": {
      "text/plain": [
       "count                   88889\n",
       "unique                  14782\n",
       "top       1982-05-16 00:00:00\n",
       "freq                       25\n",
       "first     1948-10-24 00:00:00\n",
       "last      2022-12-29 00:00:00\n",
       "Name: Event Date, dtype: object"
      ]
     },
     "execution_count": 211,
     "metadata": {},
     "output_type": "execute_result"
    }
   ],
   "source": [
    "data['Event Date'] = pd.to_datetime(data['Event.Date'])\n",
    "data['Event Date'].describe()"
   ]
  },
  {
   "cell_type": "code",
   "execution_count": 117,
   "metadata": {},
   "outputs": [
    {
     "data": {
      "text/plain": [
       "Cessna                       9106\n",
       "Piper                        4078\n",
       "CESSNA                       2117\n",
       "Beech                        1689\n",
       "Bell                         1564\n",
       "                             ... \n",
       "Goodyear Aerospace              1\n",
       "Gulfstream American Corp        1\n",
       "Sorrel                          1\n",
       "Zlin                            1\n",
       "CIRRUS DESIGN CORPORATION       1\n",
       "Name: Make, Length: 1055, dtype: int64"
      ]
     },
     "execution_count": 117,
     "metadata": {},
     "output_type": "execute_result"
    }
   ],
   "source": [
    "data['Make'].value_counts()"
   ]
  },
  {
   "cell_type": "code",
   "execution_count": 7,
   "metadata": {},
   "outputs": [
    {
     "data": {
      "text/plain": [
       "Non-Fatal     67357\n",
       "Fatal(1)       6167\n",
       "Fatal          5262\n",
       "Fatal(2)       3711\n",
       "Incident       2219\n",
       "              ...  \n",
       "Fatal(121)        1\n",
       "Fatal(123)        1\n",
       "Fatal(96)         1\n",
       "Fatal(111)        1\n",
       "Fatal(49)         1\n",
       "Name: Injury.Severity, Length: 109, dtype: int64"
      ]
     },
     "execution_count": 7,
     "metadata": {},
     "output_type": "execute_result"
    }
   ],
   "source": [
    "data['Injury.Severity'].value_counts()"
   ]
  },
  {
   "cell_type": "code",
   "execution_count": 8,
   "metadata": {},
   "outputs": [
    {
     "data": {
      "text/plain": [
       "1.0    69582\n",
       "2.0    11079\n",
       "0.0     1226\n",
       "3.0      483\n",
       "4.0      431\n",
       "8.0        3\n",
       "6.0        1\n",
       "Name: Number.of.Engines, dtype: int64"
      ]
     },
     "execution_count": 8,
     "metadata": {},
     "output_type": "execute_result"
    }
   ],
   "source": [
    "data['Number.of.Engines'].value_counts()"
   ]
  },
  {
   "cell_type": "code",
   "execution_count": 9,
   "metadata": {},
   "outputs": [
    {
     "data": {
      "text/plain": [
       "Accident      85015\n",
       "Incident       3874\n",
       "25-09-2020      702\n",
       "26-09-2020       60\n",
       "02-02-2021       39\n",
       "              ...  \n",
       "03-11-2020        1\n",
       "31-03-2021        1\n",
       "05-01-2021        1\n",
       "04-03-2021        1\n",
       "05-08-2022        1\n",
       "Name: Investigation.Type, Length: 71, dtype: int64"
      ]
     },
     "execution_count": 9,
     "metadata": {},
     "output_type": "execute_result"
    }
   ],
   "source": [
    "data['Investigation.Type'].value_counts()"
   ]
  },
  {
   "cell_type": "code",
   "execution_count": 10,
   "metadata": {},
   "outputs": [
    {
     "data": {
      "text/plain": [
       "Airplane             27617\n",
       "Helicopter            3440\n",
       "Glider                 508\n",
       "Balloon                231\n",
       "Gyrocraft              173\n",
       "Weight-Shift           161\n",
       "Powered Parachute       91\n",
       "Ultralight              30\n",
       "Unknown                 14\n",
       "WSFT                     9\n",
       "Powered-Lift             5\n",
       "Blimp                    4\n",
       "UNK                      2\n",
       "ULTR                     1\n",
       "Rocket                   1\n",
       "Name: Aircraft.Category, dtype: int64"
      ]
     },
     "execution_count": 10,
     "metadata": {},
     "output_type": "execute_result"
    }
   ],
   "source": [
    "data['Aircraft.Category'].value_counts()"
   ]
  },
  {
   "cell_type": "code",
   "execution_count": 11,
   "metadata": {},
   "outputs": [
    {
     "data": {
      "text/plain": [
       "No     80312\n",
       "Yes     8475\n",
       "Name: Amateur.Built, dtype: int64"
      ]
     },
     "execution_count": 11,
     "metadata": {},
     "output_type": "execute_result"
    }
   ],
   "source": [
    "data['Amateur.Built'].value_counts()"
   ]
  },
  {
   "cell_type": "code",
   "execution_count": 12,
   "metadata": {},
   "outputs": [
    {
     "data": {
      "text/plain": [
       "091                               18221\n",
       "Part 91: General Aviation          6486\n",
       "NUSN                               1584\n",
       "NUSC                               1013\n",
       "137                                1010\n",
       "135                                 746\n",
       "121                                 679\n",
       "Part 137: Agricultural              437\n",
       "UNK                                 371\n",
       "Part 135: Air Taxi & Commuter       298\n",
       "PUBU                                253\n",
       "129                                 246\n",
       "Part 121: Air Carrier               165\n",
       "133                                 107\n",
       "Part 129: Foreign                   100\n",
       "Non-U.S., Non-Commercial             97\n",
       "Non-U.S., Commercial                 93\n",
       "Part 133: Rotorcraft Ext. Load       32\n",
       "Unknown                              22\n",
       "Public Use                           19\n",
       "091K                                 14\n",
       "ARMF                                  8\n",
       "125                                   5\n",
       "Part 125: 20+ Pax,6000+ lbs           5\n",
       "107                                   4\n",
       "103                                   2\n",
       "Public Aircraft                       2\n",
       "Armed Forces                          1\n",
       "Part 91F: Special Flt Ops.            1\n",
       "437                                   1\n",
       "Part 91 Subpart K: Fractional         1\n",
       "Name: FAR.Description, dtype: int64"
      ]
     },
     "execution_count": 12,
     "metadata": {},
     "output_type": "execute_result"
    }
   ],
   "source": [
    "data['FAR.Description'].value_counts()"
   ]
  },
  {
   "cell_type": "code",
   "execution_count": 13,
   "metadata": {},
   "outputs": [
    {
     "data": {
      "text/plain": [
       "NSCH    4474\n",
       "UNK     4099\n",
       "SCHD    4009\n",
       "Name: Schedule, dtype: int64"
      ]
     },
     "execution_count": 13,
     "metadata": {},
     "output_type": "execute_result"
    }
   ],
   "source": [
    "data['Schedule'].value_counts()"
   ]
  },
  {
   "cell_type": "code",
   "execution_count": 14,
   "metadata": {},
   "outputs": [
    {
     "data": {
      "text/plain": [
       "Probable Cause                                                                                                                                                                                                                 61754\n",
       "Foreign                                                                                                                                                                                                                         1999\n",
       "<br /><br />                                                                                                                                                                                                                     167\n",
       "Factual                                                                                                                                                                                                                          145\n",
       "The pilot's failure to maintain directional control during the landing roll.                                                                                                                                                      58\n",
       "                                                                                                                                                                                                                               ...  \n",
       "A partial loss of engine power during takeoff due to failure of the left magneto. Contributing to the accident was unsuitable terrain to conduct a forced landing.                                                                 1\n",
       "The pilot's failure to maintain directional control during the takeoff roll.  Contributing to the accident was the pilot's inadvertent use of the toe brake.                                                                       1\n",
       "The pilot misjudged his altitude which resulted in the airplane contacting a wire during the low altitude aerial application maneuver.                                                                                             1\n",
       "The pilot's failure to maintain adequate airspeed while turning onto the final approach leg of the traffic pattern, which led to the airplane exceeding its critical angle-of-attack and experiencing an aerodynamic stall.        1\n",
       "The aircraft's encounter with deep snow during the landing roll out. Contributing to the accident was the airport manager's failure to update the AWOS recording to reflect the closure of the runway due to snow.                 1\n",
       "Name: Report.Status, Length: 17007, dtype: int64"
      ]
     },
     "execution_count": 14,
     "metadata": {},
     "output_type": "execute_result"
    }
   ],
   "source": [
    "data['Report.Status'].value_counts()"
   ]
  },
  {
   "cell_type": "code",
   "execution_count": 15,
   "metadata": {},
   "outputs": [
    {
     "data": {
      "text/plain": [
       "Substantial    64148\n",
       "Destroyed      18623\n",
       "Minor           2805\n",
       "Unknown          119\n",
       "Name: Aircraft.damage, dtype: int64"
      ]
     },
     "execution_count": 15,
     "metadata": {},
     "output_type": "execute_result"
    }
   ],
   "source": [
    "data['Aircraft.damage'].value_counts()"
   ]
  },
  {
   "cell_type": "code",
   "execution_count": 16,
   "metadata": {},
   "outputs": [
    {
     "data": {
      "text/plain": [
       "Reciprocating      69530\n",
       "Turbo Shaft         3609\n",
       "Turbo Prop          3391\n",
       "Turbo Fan           2481\n",
       "Unknown             2051\n",
       "Turbo Jet            703\n",
       "None                  19\n",
       "Geared Turbofan       12\n",
       "Electric              10\n",
       "LR                     2\n",
       "NONE                   2\n",
       "UNK                    1\n",
       "Hybrid Rocket          1\n",
       "Name: Engine.Type, dtype: int64"
      ]
     },
     "execution_count": 16,
     "metadata": {},
     "output_type": "execute_result"
    }
   ],
   "source": [
    "data['Engine.Type'].value_counts()"
   ]
  },
  {
   "cell_type": "code",
   "execution_count": 17,
   "metadata": {},
   "outputs": [
    {
     "data": {
      "text/plain": [
       "VMC    77303\n",
       "IMC     5976\n",
       "UNK      856\n",
       "Unk      262\n",
       "Name: Weather.Condition, dtype: int64"
      ]
     },
     "execution_count": 17,
     "metadata": {},
     "output_type": "execute_result"
    }
   ],
   "source": [
    "data['Weather.Condition'].value_counts()"
   ]
  },
  {
   "cell_type": "code",
   "execution_count": 18,
   "metadata": {},
   "outputs": [
    {
     "data": {
      "text/plain": [
       "Landing        15428\n",
       "Takeoff        12493\n",
       "Cruise         10269\n",
       "Maneuvering     8144\n",
       "Approach        6546\n",
       "Climb           2034\n",
       "Taxi            1958\n",
       "Descent         1887\n",
       "Go-around       1353\n",
       "Standing         945\n",
       "Unknown          548\n",
       "Other            119\n",
       "Name: Broad.phase.of.flight, dtype: int64"
      ]
     },
     "execution_count": 18,
     "metadata": {},
     "output_type": "execute_result"
    }
   ],
   "source": [
    "data['Broad.phase.of.flight'].value_counts()"
   ]
  },
  {
   "cell_type": "code",
   "execution_count": 19,
   "metadata": {},
   "outputs": [
    {
     "data": {
      "text/plain": [
       "1.0    69582\n",
       "2.0    11079\n",
       "0.0     1226\n",
       "3.0      483\n",
       "4.0      431\n",
       "8.0        3\n",
       "6.0        1\n",
       "Name: Number.of.Engines, dtype: int64"
      ]
     },
     "execution_count": 19,
     "metadata": {},
     "output_type": "execute_result"
    }
   ],
   "source": [
    "data['Number.of.Engines'].value_counts()"
   ]
  },
  {
   "cell_type": "markdown",
   "metadata": {},
   "source": [
    "The dataset includes records from 1982 through 2002.  It includes a wide variety of aircraft types, makes and models.  Most injuries are non-fatal.  While some aircraft have 2+ engines, a significant majority have only one engine.  Exploring all data to help determine its relevance to the business problem."
   ]
  },
  {
   "cell_type": "markdown",
   "metadata": {},
   "source": [
    "## Data Preparation"
   ]
  },
  {
   "cell_type": "markdown",
   "metadata": {},
   "source": [
    "I make the data easier to work with by dropping unnecessary columns which contain irrelevant information, as well as records/rows relating to obviously irrelevant incidents (ie. since we are interested in the safest airplanes only, we are removing ameteur built aircraft as well as things like helicopters, parachutes, etc.)"
   ]
  },
  {
   "cell_type": "code",
   "execution_count": 212,
   "metadata": {},
   "outputs": [],
   "source": [
    "data.drop(columns = ['Event.Id', 'Investigation.Type', 'Accident.Number', 'Location', 'Country', 'Latitude', 'Longitude', 'Airport.Code', 'Airport.Name', 'Registration.Number', 'FAR.Description', 'Schedule', 'Air.carrier', 'Report.Status', 'Publication.Date', 'Broad.phase.of.flight'], inplace=True)"
   ]
  },
  {
   "cell_type": "markdown",
   "metadata": {},
   "source": []
  },
  {
   "cell_type": "code",
   "execution_count": 21,
   "metadata": {},
   "outputs": [
    {
     "data": {
      "text/html": [
       "<div>\n",
       "<style scoped>\n",
       "    .dataframe tbody tr th:only-of-type {\n",
       "        vertical-align: middle;\n",
       "    }\n",
       "\n",
       "    .dataframe tbody tr th {\n",
       "        vertical-align: top;\n",
       "    }\n",
       "\n",
       "    .dataframe thead th {\n",
       "        text-align: right;\n",
       "    }\n",
       "</style>\n",
       "<table border=\"1\" class=\"dataframe\">\n",
       "  <thead>\n",
       "    <tr style=\"text-align: right;\">\n",
       "      <th></th>\n",
       "      <th>Event.Date</th>\n",
       "      <th>Injury.Severity</th>\n",
       "      <th>Aircraft.damage</th>\n",
       "      <th>Aircraft.Category</th>\n",
       "      <th>Make</th>\n",
       "      <th>Model</th>\n",
       "      <th>Amateur.Built</th>\n",
       "      <th>Number.of.Engines</th>\n",
       "      <th>Engine.Type</th>\n",
       "      <th>Purpose.of.flight</th>\n",
       "      <th>Total.Fatal.Injuries</th>\n",
       "      <th>Total.Serious.Injuries</th>\n",
       "      <th>Total.Minor.Injuries</th>\n",
       "      <th>Total.Uninjured</th>\n",
       "      <th>Weather.Condition</th>\n",
       "      <th>Event Date</th>\n",
       "    </tr>\n",
       "  </thead>\n",
       "  <tbody>\n",
       "    <tr>\n",
       "      <th>0</th>\n",
       "      <td>1948-10-24</td>\n",
       "      <td>Fatal(2)</td>\n",
       "      <td>Destroyed</td>\n",
       "      <td>NaN</td>\n",
       "      <td>Stinson</td>\n",
       "      <td>108-3</td>\n",
       "      <td>No</td>\n",
       "      <td>1.0</td>\n",
       "      <td>Reciprocating</td>\n",
       "      <td>Personal</td>\n",
       "      <td>2.0</td>\n",
       "      <td>0.0</td>\n",
       "      <td>0.0</td>\n",
       "      <td>0.0</td>\n",
       "      <td>UNK</td>\n",
       "      <td>1948-10-24</td>\n",
       "    </tr>\n",
       "    <tr>\n",
       "      <th>1</th>\n",
       "      <td>1962-07-19</td>\n",
       "      <td>Fatal(4)</td>\n",
       "      <td>Destroyed</td>\n",
       "      <td>NaN</td>\n",
       "      <td>Piper</td>\n",
       "      <td>PA24-180</td>\n",
       "      <td>No</td>\n",
       "      <td>1.0</td>\n",
       "      <td>Reciprocating</td>\n",
       "      <td>Personal</td>\n",
       "      <td>4.0</td>\n",
       "      <td>0.0</td>\n",
       "      <td>0.0</td>\n",
       "      <td>0.0</td>\n",
       "      <td>UNK</td>\n",
       "      <td>1962-07-19</td>\n",
       "    </tr>\n",
       "    <tr>\n",
       "      <th>2</th>\n",
       "      <td>1974-08-30</td>\n",
       "      <td>Fatal(3)</td>\n",
       "      <td>Destroyed</td>\n",
       "      <td>NaN</td>\n",
       "      <td>Cessna</td>\n",
       "      <td>172M</td>\n",
       "      <td>No</td>\n",
       "      <td>1.0</td>\n",
       "      <td>Reciprocating</td>\n",
       "      <td>Personal</td>\n",
       "      <td>3.0</td>\n",
       "      <td>NaN</td>\n",
       "      <td>NaN</td>\n",
       "      <td>NaN</td>\n",
       "      <td>IMC</td>\n",
       "      <td>1974-08-30</td>\n",
       "    </tr>\n",
       "    <tr>\n",
       "      <th>3</th>\n",
       "      <td>1977-06-19</td>\n",
       "      <td>Fatal(2)</td>\n",
       "      <td>Destroyed</td>\n",
       "      <td>NaN</td>\n",
       "      <td>Rockwell</td>\n",
       "      <td>112</td>\n",
       "      <td>No</td>\n",
       "      <td>1.0</td>\n",
       "      <td>Reciprocating</td>\n",
       "      <td>Personal</td>\n",
       "      <td>2.0</td>\n",
       "      <td>0.0</td>\n",
       "      <td>0.0</td>\n",
       "      <td>0.0</td>\n",
       "      <td>IMC</td>\n",
       "      <td>1977-06-19</td>\n",
       "    </tr>\n",
       "    <tr>\n",
       "      <th>4</th>\n",
       "      <td>1979-08-02</td>\n",
       "      <td>Fatal(1)</td>\n",
       "      <td>Destroyed</td>\n",
       "      <td>NaN</td>\n",
       "      <td>Cessna</td>\n",
       "      <td>501</td>\n",
       "      <td>No</td>\n",
       "      <td>NaN</td>\n",
       "      <td>NaN</td>\n",
       "      <td>Personal</td>\n",
       "      <td>1.0</td>\n",
       "      <td>2.0</td>\n",
       "      <td>NaN</td>\n",
       "      <td>0.0</td>\n",
       "      <td>VMC</td>\n",
       "      <td>1979-08-02</td>\n",
       "    </tr>\n",
       "  </tbody>\n",
       "</table>\n",
       "</div>"
      ],
      "text/plain": [
       "   Event.Date Injury.Severity Aircraft.damage Aircraft.Category      Make  \\\n",
       "0  1948-10-24        Fatal(2)       Destroyed               NaN   Stinson   \n",
       "1  1962-07-19        Fatal(4)       Destroyed               NaN     Piper   \n",
       "2  1974-08-30        Fatal(3)       Destroyed               NaN    Cessna   \n",
       "3  1977-06-19        Fatal(2)       Destroyed               NaN  Rockwell   \n",
       "4  1979-08-02        Fatal(1)       Destroyed               NaN    Cessna   \n",
       "\n",
       "      Model Amateur.Built  Number.of.Engines    Engine.Type Purpose.of.flight  \\\n",
       "0     108-3            No                1.0  Reciprocating          Personal   \n",
       "1  PA24-180            No                1.0  Reciprocating          Personal   \n",
       "2      172M            No                1.0  Reciprocating          Personal   \n",
       "3       112            No                1.0  Reciprocating          Personal   \n",
       "4       501            No                NaN            NaN          Personal   \n",
       "\n",
       "   Total.Fatal.Injuries  Total.Serious.Injuries  Total.Minor.Injuries  \\\n",
       "0                   2.0                     0.0                   0.0   \n",
       "1                   4.0                     0.0                   0.0   \n",
       "2                   3.0                     NaN                   NaN   \n",
       "3                   2.0                     0.0                   0.0   \n",
       "4                   1.0                     2.0                   NaN   \n",
       "\n",
       "   Total.Uninjured Weather.Condition Event Date  \n",
       "0              0.0               UNK 1948-10-24  \n",
       "1              0.0               UNK 1962-07-19  \n",
       "2              NaN               IMC 1974-08-30  \n",
       "3              0.0               IMC 1977-06-19  \n",
       "4              0.0               VMC 1979-08-02  "
      ]
     },
     "execution_count": 21,
     "metadata": {},
     "output_type": "execute_result"
    }
   ],
   "source": [
    "data.head()"
   ]
  },
  {
   "cell_type": "code",
   "execution_count": 213,
   "metadata": {},
   "outputs": [],
   "source": [
    "data.drop(data[data['Amateur.Built'] == 'Yes'].index, inplace=True)"
   ]
  },
  {
   "cell_type": "code",
   "execution_count": 214,
   "metadata": {},
   "outputs": [],
   "source": [
    "data.drop(data[data['Purpose.of.flight'] == 'Personal'].index, inplace=True)"
   ]
  },
  {
   "cell_type": "code",
   "execution_count": 24,
   "metadata": {},
   "outputs": [
    {
     "name": "stdout",
     "output_type": "stream",
     "text": [
      "<class 'pandas.core.frame.DataFrame'>\n",
      "Int64Index: 39866 entries, 5 to 90344\n",
      "Data columns (total 16 columns):\n",
      " #   Column                  Non-Null Count  Dtype         \n",
      "---  ------                  --------------  -----         \n",
      " 0   Event.Date              38407 non-null  object        \n",
      " 1   Injury.Severity         37424 non-null  object        \n",
      " 2   Aircraft.damage         35580 non-null  object        \n",
      " 3   Aircraft.Category       14122 non-null  object        \n",
      " 4   Make                    38361 non-null  object        \n",
      " 5   Model                   38343 non-null  object        \n",
      " 6   Amateur.Built           38325 non-null  object        \n",
      " 7   Number.of.Engines       33935 non-null  float64       \n",
      " 8   Engine.Type             33589 non-null  object        \n",
      " 9   Purpose.of.flight       32271 non-null  object        \n",
      " 10  Total.Fatal.Injuries    33365 non-null  float64       \n",
      " 11  Total.Serious.Injuries  32970 non-null  float64       \n",
      " 12  Total.Minor.Injuries    33142 non-null  float64       \n",
      " 13  Total.Uninjured         36070 non-null  float64       \n",
      " 14  Weather.Condition       34484 non-null  object        \n",
      " 15  Event Date              38407 non-null  datetime64[ns]\n",
      "dtypes: datetime64[ns](1), float64(5), object(10)\n",
      "memory usage: 5.2+ MB\n"
     ]
    }
   ],
   "source": [
    "data.info()"
   ]
  },
  {
   "cell_type": "code",
   "execution_count": 25,
   "metadata": {},
   "outputs": [
    {
     "data": {
      "text/html": [
       "<div>\n",
       "<style scoped>\n",
       "    .dataframe tbody tr th:only-of-type {\n",
       "        vertical-align: middle;\n",
       "    }\n",
       "\n",
       "    .dataframe tbody tr th {\n",
       "        vertical-align: top;\n",
       "    }\n",
       "\n",
       "    .dataframe thead th {\n",
       "        text-align: right;\n",
       "    }\n",
       "</style>\n",
       "<table border=\"1\" class=\"dataframe\">\n",
       "  <thead>\n",
       "    <tr style=\"text-align: right;\">\n",
       "      <th></th>\n",
       "      <th>Event.Date</th>\n",
       "      <th>Injury.Severity</th>\n",
       "      <th>Aircraft.damage</th>\n",
       "      <th>Aircraft.Category</th>\n",
       "      <th>Make</th>\n",
       "      <th>Model</th>\n",
       "      <th>Amateur.Built</th>\n",
       "      <th>Number.of.Engines</th>\n",
       "      <th>Engine.Type</th>\n",
       "      <th>Purpose.of.flight</th>\n",
       "      <th>Total.Fatal.Injuries</th>\n",
       "      <th>Total.Serious.Injuries</th>\n",
       "      <th>Total.Minor.Injuries</th>\n",
       "      <th>Total.Uninjured</th>\n",
       "      <th>Weather.Condition</th>\n",
       "      <th>Event Date</th>\n",
       "    </tr>\n",
       "  </thead>\n",
       "  <tbody>\n",
       "    <tr>\n",
       "      <th>5</th>\n",
       "      <td>1979-09-17</td>\n",
       "      <td>Non-Fatal</td>\n",
       "      <td>Substantial</td>\n",
       "      <td>Airplane</td>\n",
       "      <td>Mcdonnell Douglas</td>\n",
       "      <td>DC9</td>\n",
       "      <td>No</td>\n",
       "      <td>2.0</td>\n",
       "      <td>Turbo Fan</td>\n",
       "      <td>NaN</td>\n",
       "      <td>NaN</td>\n",
       "      <td>NaN</td>\n",
       "      <td>1.0</td>\n",
       "      <td>44.0</td>\n",
       "      <td>VMC</td>\n",
       "      <td>1979-09-17</td>\n",
       "    </tr>\n",
       "    <tr>\n",
       "      <th>8</th>\n",
       "      <td>1982-01-01</td>\n",
       "      <td>Non-Fatal</td>\n",
       "      <td>Substantial</td>\n",
       "      <td>Airplane</td>\n",
       "      <td>Cessna</td>\n",
       "      <td>401B</td>\n",
       "      <td>No</td>\n",
       "      <td>2.0</td>\n",
       "      <td>Reciprocating</td>\n",
       "      <td>Business</td>\n",
       "      <td>0.0</td>\n",
       "      <td>0.0</td>\n",
       "      <td>0.0</td>\n",
       "      <td>2.0</td>\n",
       "      <td>IMC</td>\n",
       "      <td>1982-01-01</td>\n",
       "    </tr>\n",
       "    <tr>\n",
       "      <th>20</th>\n",
       "      <td>1982-01-02</td>\n",
       "      <td>Non-Fatal</td>\n",
       "      <td>Substantial</td>\n",
       "      <td>Airplane</td>\n",
       "      <td>Cessna</td>\n",
       "      <td>152</td>\n",
       "      <td>No</td>\n",
       "      <td>1.0</td>\n",
       "      <td>Reciprocating</td>\n",
       "      <td>Instructional</td>\n",
       "      <td>0.0</td>\n",
       "      <td>0.0</td>\n",
       "      <td>0.0</td>\n",
       "      <td>1.0</td>\n",
       "      <td>VMC</td>\n",
       "      <td>1982-01-02</td>\n",
       "    </tr>\n",
       "    <tr>\n",
       "      <th>22</th>\n",
       "      <td>1982-01-02</td>\n",
       "      <td>Non-Fatal</td>\n",
       "      <td>Substantial</td>\n",
       "      <td>Helicopter</td>\n",
       "      <td>Bell</td>\n",
       "      <td>206L-1</td>\n",
       "      <td>No</td>\n",
       "      <td>1.0</td>\n",
       "      <td>Turbo Shaft</td>\n",
       "      <td>Unknown</td>\n",
       "      <td>0.0</td>\n",
       "      <td>0.0</td>\n",
       "      <td>0.0</td>\n",
       "      <td>1.0</td>\n",
       "      <td>VMC</td>\n",
       "      <td>1982-01-02</td>\n",
       "    </tr>\n",
       "    <tr>\n",
       "      <th>25</th>\n",
       "      <td>1982-01-03</td>\n",
       "      <td>Fatal(8)</td>\n",
       "      <td>Destroyed</td>\n",
       "      <td>Airplane</td>\n",
       "      <td>Cessna</td>\n",
       "      <td>414A</td>\n",
       "      <td>No</td>\n",
       "      <td>2.0</td>\n",
       "      <td>Reciprocating</td>\n",
       "      <td>Business</td>\n",
       "      <td>8.0</td>\n",
       "      <td>0.0</td>\n",
       "      <td>0.0</td>\n",
       "      <td>0.0</td>\n",
       "      <td>IMC</td>\n",
       "      <td>1982-01-03</td>\n",
       "    </tr>\n",
       "  </tbody>\n",
       "</table>\n",
       "</div>"
      ],
      "text/plain": [
       "    Event.Date Injury.Severity Aircraft.damage Aircraft.Category  \\\n",
       "5   1979-09-17       Non-Fatal     Substantial          Airplane   \n",
       "8   1982-01-01       Non-Fatal     Substantial          Airplane   \n",
       "20  1982-01-02       Non-Fatal     Substantial          Airplane   \n",
       "22  1982-01-02       Non-Fatal     Substantial        Helicopter   \n",
       "25  1982-01-03        Fatal(8)       Destroyed          Airplane   \n",
       "\n",
       "                 Make   Model Amateur.Built  Number.of.Engines    Engine.Type  \\\n",
       "5   Mcdonnell Douglas     DC9            No                2.0      Turbo Fan   \n",
       "8              Cessna    401B            No                2.0  Reciprocating   \n",
       "20             Cessna     152            No                1.0  Reciprocating   \n",
       "22               Bell  206L-1            No                1.0    Turbo Shaft   \n",
       "25             Cessna    414A            No                2.0  Reciprocating   \n",
       "\n",
       "   Purpose.of.flight  Total.Fatal.Injuries  Total.Serious.Injuries  \\\n",
       "5                NaN                   NaN                     NaN   \n",
       "8           Business                   0.0                     0.0   \n",
       "20     Instructional                   0.0                     0.0   \n",
       "22           Unknown                   0.0                     0.0   \n",
       "25          Business                   8.0                     0.0   \n",
       "\n",
       "    Total.Minor.Injuries  Total.Uninjured Weather.Condition Event Date  \n",
       "5                    1.0             44.0               VMC 1979-09-17  \n",
       "8                    0.0              2.0               IMC 1982-01-01  \n",
       "20                   0.0              1.0               VMC 1982-01-02  \n",
       "22                   0.0              1.0               VMC 1982-01-02  \n",
       "25                   0.0              0.0               IMC 1982-01-03  "
      ]
     },
     "execution_count": 25,
     "metadata": {},
     "output_type": "execute_result"
    }
   ],
   "source": [
    "data.head()"
   ]
  },
  {
   "cell_type": "code",
   "execution_count": 215,
   "metadata": {},
   "outputs": [],
   "source": [
    "non_airplanes = ['Helicopter', 'Glider', 'Balloon', 'Gyrocraft', 'Weight-Shift', 'Powered Parachute', 'Ultralight', 'Unknown', 'WSFT', 'Powered-Lift', 'Blimp', 'UNK', 'Rocket', 'ULTR' ]\n",
    "data = data[~data['Aircraft.Category'].isin(non_airplanes)]"
   ]
  },
  {
   "cell_type": "code",
   "execution_count": 216,
   "metadata": {},
   "outputs": [],
   "source": [
    "data['Make'] = data['Make'].str.lower()"
   ]
  },
  {
   "cell_type": "code",
   "execution_count": 217,
   "metadata": {},
   "outputs": [
    {
     "data": {
      "text/plain": [
       "cessna                   11247\n",
       "piper                     5101\n",
       "boeing                    2439\n",
       "beech                     2067\n",
       "bell                      1599\n",
       "                         ...  \n",
       "firefly balloon, inc.        1\n",
       "c a tecnam srl               1\n",
       "moyes                        1\n",
       "eiriavion oy                 1\n",
       "bell-campbell                1\n",
       "Name: Make, Length: 869, dtype: int64"
      ]
     },
     "execution_count": 217,
     "metadata": {},
     "output_type": "execute_result"
    }
   ],
   "source": [
    "data['Make'].value_counts()"
   ]
  },
  {
   "cell_type": "code",
   "execution_count": 12,
   "metadata": {},
   "outputs": [
    {
     "name": "stdout",
     "output_type": "stream",
     "text": [
      "<class 'pandas.core.frame.DataFrame'>\n",
      "Int64Index: 36836 entries, 5 to 90344\n",
      "Data columns (total 16 columns):\n",
      " #   Column                  Non-Null Count  Dtype         \n",
      "---  ------                  --------------  -----         \n",
      " 0   Event.Date              35377 non-null  object        \n",
      " 1   Injury.Severity         34464 non-null  object        \n",
      " 2   Aircraft.damage         32679 non-null  object        \n",
      " 3   Aircraft.Category       11092 non-null  object        \n",
      " 4   Make                    35332 non-null  object        \n",
      " 5   Model                   35313 non-null  object        \n",
      " 6   Amateur.Built           35297 non-null  object        \n",
      " 7   Number.of.Engines       31481 non-null  float64       \n",
      " 8   Engine.Type             31404 non-null  object        \n",
      " 9   Purpose.of.flight       29941 non-null  object        \n",
      " 10  Total.Fatal.Injuries    30659 non-null  float64       \n",
      " 11  Total.Serious.Injuries  30248 non-null  float64       \n",
      " 12  Total.Minor.Injuries    30390 non-null  float64       \n",
      " 13  Total.Uninjured         33156 non-null  float64       \n",
      " 14  Weather.Condition       32007 non-null  object        \n",
      " 15  Event Date              35377 non-null  datetime64[ns]\n",
      "dtypes: datetime64[ns](1), float64(5), object(10)\n",
      "memory usage: 4.8+ MB\n"
     ]
    }
   ],
   "source": [
    "data.info()"
   ]
  },
  {
   "cell_type": "code",
   "execution_count": 218,
   "metadata": {},
   "outputs": [],
   "source": [
    "data.drop(columns = ['Aircraft.Category'], inplace=True)"
   ]
  },
  {
   "cell_type": "code",
   "execution_count": 219,
   "metadata": {},
   "outputs": [],
   "source": [
    "data.drop(columns = ['Amateur.Built'], inplace=True)"
   ]
  },
  {
   "cell_type": "code",
   "execution_count": 33,
   "metadata": {},
   "outputs": [
    {
     "name": "stdout",
     "output_type": "stream",
     "text": [
      "<class 'pandas.core.frame.DataFrame'>\n",
      "Int64Index: 36836 entries, 5 to 90344\n",
      "Data columns (total 14 columns):\n",
      " #   Column                  Non-Null Count  Dtype         \n",
      "---  ------                  --------------  -----         \n",
      " 0   Event.Date              35377 non-null  object        \n",
      " 1   Injury.Severity         34464 non-null  object        \n",
      " 2   Aircraft.damage         32679 non-null  object        \n",
      " 3   Make                    35332 non-null  object        \n",
      " 4   Model                   35313 non-null  object        \n",
      " 5   Number.of.Engines       31481 non-null  float64       \n",
      " 6   Engine.Type             31404 non-null  object        \n",
      " 7   Purpose.of.flight       29941 non-null  object        \n",
      " 8   Total.Fatal.Injuries    30659 non-null  float64       \n",
      " 9   Total.Serious.Injuries  30248 non-null  float64       \n",
      " 10  Total.Minor.Injuries    30390 non-null  float64       \n",
      " 11  Total.Uninjured         33156 non-null  float64       \n",
      " 12  Weather.Condition       32007 non-null  object        \n",
      " 13  Event Date              35377 non-null  datetime64[ns]\n",
      "dtypes: datetime64[ns](1), float64(5), object(8)\n",
      "memory usage: 4.2+ MB\n"
     ]
    }
   ],
   "source": [
    "data.info()"
   ]
  },
  {
   "cell_type": "code",
   "execution_count": 34,
   "metadata": {},
   "outputs": [
    {
     "data": {
      "text/html": [
       "<div>\n",
       "<style scoped>\n",
       "    .dataframe tbody tr th:only-of-type {\n",
       "        vertical-align: middle;\n",
       "    }\n",
       "\n",
       "    .dataframe tbody tr th {\n",
       "        vertical-align: top;\n",
       "    }\n",
       "\n",
       "    .dataframe thead th {\n",
       "        text-align: right;\n",
       "    }\n",
       "</style>\n",
       "<table border=\"1\" class=\"dataframe\">\n",
       "  <thead>\n",
       "    <tr style=\"text-align: right;\">\n",
       "      <th></th>\n",
       "      <th>Event.Date</th>\n",
       "      <th>Injury.Severity</th>\n",
       "      <th>Aircraft.damage</th>\n",
       "      <th>Make</th>\n",
       "      <th>Model</th>\n",
       "      <th>Number.of.Engines</th>\n",
       "      <th>Engine.Type</th>\n",
       "      <th>Purpose.of.flight</th>\n",
       "      <th>Total.Fatal.Injuries</th>\n",
       "      <th>Total.Serious.Injuries</th>\n",
       "      <th>Total.Minor.Injuries</th>\n",
       "      <th>Total.Uninjured</th>\n",
       "      <th>Weather.Condition</th>\n",
       "      <th>Event Date</th>\n",
       "    </tr>\n",
       "  </thead>\n",
       "  <tbody>\n",
       "    <tr>\n",
       "      <th>5</th>\n",
       "      <td>1979-09-17</td>\n",
       "      <td>Non-Fatal</td>\n",
       "      <td>Substantial</td>\n",
       "      <td>Mcdonnell Douglas</td>\n",
       "      <td>DC9</td>\n",
       "      <td>2.0</td>\n",
       "      <td>Turbo Fan</td>\n",
       "      <td>NaN</td>\n",
       "      <td>NaN</td>\n",
       "      <td>NaN</td>\n",
       "      <td>1.0</td>\n",
       "      <td>44.0</td>\n",
       "      <td>VMC</td>\n",
       "      <td>1979-09-17</td>\n",
       "    </tr>\n",
       "    <tr>\n",
       "      <th>8</th>\n",
       "      <td>1982-01-01</td>\n",
       "      <td>Non-Fatal</td>\n",
       "      <td>Substantial</td>\n",
       "      <td>Cessna</td>\n",
       "      <td>401B</td>\n",
       "      <td>2.0</td>\n",
       "      <td>Reciprocating</td>\n",
       "      <td>Business</td>\n",
       "      <td>0.0</td>\n",
       "      <td>0.0</td>\n",
       "      <td>0.0</td>\n",
       "      <td>2.0</td>\n",
       "      <td>IMC</td>\n",
       "      <td>1982-01-01</td>\n",
       "    </tr>\n",
       "    <tr>\n",
       "      <th>20</th>\n",
       "      <td>1982-01-02</td>\n",
       "      <td>Non-Fatal</td>\n",
       "      <td>Substantial</td>\n",
       "      <td>Cessna</td>\n",
       "      <td>152</td>\n",
       "      <td>1.0</td>\n",
       "      <td>Reciprocating</td>\n",
       "      <td>Instructional</td>\n",
       "      <td>0.0</td>\n",
       "      <td>0.0</td>\n",
       "      <td>0.0</td>\n",
       "      <td>1.0</td>\n",
       "      <td>VMC</td>\n",
       "      <td>1982-01-02</td>\n",
       "    </tr>\n",
       "    <tr>\n",
       "      <th>25</th>\n",
       "      <td>1982-01-03</td>\n",
       "      <td>Fatal(8)</td>\n",
       "      <td>Destroyed</td>\n",
       "      <td>Cessna</td>\n",
       "      <td>414A</td>\n",
       "      <td>2.0</td>\n",
       "      <td>Reciprocating</td>\n",
       "      <td>Business</td>\n",
       "      <td>8.0</td>\n",
       "      <td>0.0</td>\n",
       "      <td>0.0</td>\n",
       "      <td>0.0</td>\n",
       "      <td>IMC</td>\n",
       "      <td>1982-01-03</td>\n",
       "    </tr>\n",
       "    <tr>\n",
       "      <th>31</th>\n",
       "      <td>1982-01-03</td>\n",
       "      <td>Non-Fatal</td>\n",
       "      <td>Substantial</td>\n",
       "      <td>Air Tractor</td>\n",
       "      <td>AT-301</td>\n",
       "      <td>1.0</td>\n",
       "      <td>Reciprocating</td>\n",
       "      <td>Ferry</td>\n",
       "      <td>0.0</td>\n",
       "      <td>0.0</td>\n",
       "      <td>0.0</td>\n",
       "      <td>1.0</td>\n",
       "      <td>VMC</td>\n",
       "      <td>1982-01-03</td>\n",
       "    </tr>\n",
       "  </tbody>\n",
       "</table>\n",
       "</div>"
      ],
      "text/plain": [
       "    Event.Date Injury.Severity Aircraft.damage               Make   Model  \\\n",
       "5   1979-09-17       Non-Fatal     Substantial  Mcdonnell Douglas     DC9   \n",
       "8   1982-01-01       Non-Fatal     Substantial             Cessna    401B   \n",
       "20  1982-01-02       Non-Fatal     Substantial             Cessna     152   \n",
       "25  1982-01-03        Fatal(8)       Destroyed             Cessna    414A   \n",
       "31  1982-01-03       Non-Fatal     Substantial        Air Tractor  AT-301   \n",
       "\n",
       "    Number.of.Engines    Engine.Type Purpose.of.flight  Total.Fatal.Injuries  \\\n",
       "5                 2.0      Turbo Fan               NaN                   NaN   \n",
       "8                 2.0  Reciprocating          Business                   0.0   \n",
       "20                1.0  Reciprocating     Instructional                   0.0   \n",
       "25                2.0  Reciprocating          Business                   8.0   \n",
       "31                1.0  Reciprocating             Ferry                   0.0   \n",
       "\n",
       "    Total.Serious.Injuries  Total.Minor.Injuries  Total.Uninjured  \\\n",
       "5                      NaN                   1.0             44.0   \n",
       "8                      0.0                   0.0              2.0   \n",
       "20                     0.0                   0.0              1.0   \n",
       "25                     0.0                   0.0              0.0   \n",
       "31                     0.0                   0.0              1.0   \n",
       "\n",
       "   Weather.Condition Event Date  \n",
       "5                VMC 1979-09-17  \n",
       "8                IMC 1982-01-01  \n",
       "20               VMC 1982-01-02  \n",
       "25               IMC 1982-01-03  \n",
       "31               VMC 1982-01-03  "
      ]
     },
     "execution_count": 34,
     "metadata": {},
     "output_type": "execute_result"
    }
   ],
   "source": [
    "data.head()"
   ]
  },
  {
   "cell_type": "markdown",
   "metadata": {},
   "source": [
    "# Exploratory Data Analysis"
   ]
  },
  {
   "cell_type": "code",
   "execution_count": 220,
   "metadata": {},
   "outputs": [],
   "source": [
    "import matplotlib\n",
    "import matplotlib.pyplot as plt\n",
    "\n",
    "%matplotlib inline"
   ]
  },
  {
   "cell_type": "code",
   "execution_count": 36,
   "metadata": {},
   "outputs": [
    {
     "data": {
      "text/plain": [
       "1.0    22723\n",
       "2.0     7570\n",
       "3.0      477\n",
       "4.0      416\n",
       "0.0      293\n",
       "6.0        1\n",
       "8.0        1\n",
       "Name: Number.of.Engines, dtype: int64"
      ]
     },
     "execution_count": 36,
     "metadata": {},
     "output_type": "execute_result"
    }
   ],
   "source": [
    "data['Number.of.Engines'].value_counts()"
   ]
  },
  {
   "cell_type": "code",
   "execution_count": 221,
   "metadata": {},
   "outputs": [],
   "source": [
    "data = data[~data['Number.of.Engines'].isin([0.0, 6.0, 8.0])]"
   ]
  },
  {
   "cell_type": "code",
   "execution_count": 222,
   "metadata": {},
   "outputs": [
    {
     "name": "stdout",
     "output_type": "stream",
     "text": [
      "<class 'pandas.core.frame.DataFrame'>\n",
      "Int64Index: 36541 entries, 5 to 90344\n",
      "Data columns (total 14 columns):\n",
      " #   Column                  Non-Null Count  Dtype         \n",
      "---  ------                  --------------  -----         \n",
      " 0   Event.Date              35082 non-null  object        \n",
      " 1   Injury.Severity         34169 non-null  object        \n",
      " 2   Aircraft.damage         32427 non-null  object        \n",
      " 3   Make                    35037 non-null  object        \n",
      " 4   Model                   35018 non-null  object        \n",
      " 5   Number.of.Engines       31186 non-null  float64       \n",
      " 6   Engine.Type             31159 non-null  object        \n",
      " 7   Purpose.of.flight       29647 non-null  object        \n",
      " 8   Total.Fatal.Injuries    30441 non-null  float64       \n",
      " 9   Total.Serious.Injuries  30013 non-null  float64       \n",
      " 10  Total.Minor.Injuries    30165 non-null  float64       \n",
      " 11  Total.Uninjured         32907 non-null  float64       \n",
      " 12  Weather.Condition       31713 non-null  object        \n",
      " 13  Event Date              35082 non-null  datetime64[ns]\n",
      "dtypes: datetime64[ns](1), float64(5), object(8)\n",
      "memory usage: 4.2+ MB\n"
     ]
    }
   ],
   "source": [
    "data.info()"
   ]
  },
  {
   "cell_type": "code",
   "execution_count": 223,
   "metadata": {},
   "outputs": [
    {
     "data": {
      "text/plain": [
       "(36541, 14)"
      ]
     },
     "execution_count": 223,
     "metadata": {},
     "output_type": "execute_result"
    }
   ],
   "source": [
    "data.shape"
   ]
  },
  {
   "cell_type": "code",
   "execution_count": 158,
   "metadata": {},
   "outputs": [
    {
     "data": {
      "text/plain": [
       "1.0    22723\n",
       "2.0     7570\n",
       "3.0      477\n",
       "4.0      416\n",
       "Name: Number.of.Engines, dtype: int64"
      ]
     },
     "execution_count": 158,
     "metadata": {},
     "output_type": "execute_result"
    }
   ],
   "source": [
    "data['Number.of.Engines'].value_counts()"
   ]
  },
  {
   "cell_type": "code",
   "execution_count": 225,
   "metadata": {
    "scrolled": true
   },
   "outputs": [
    {
     "data": {
      "image/png": "[encoded data removed]",
      "text/plain": [
       "<Figure size 720x576 with 1 Axes>"
      ]
     },
     "metadata": {
      "needs_background": "light"
     },
     "output_type": "display_data"
    }
   ],
   "source": [
    "fig, ax = plt.subplots(figsize=(10, 8))\n",
    "plt.hist(data['Number.of.Engines'], bins=4, edgecolor='black')\n",
    "ax.set_xlabel(\"Number of Engines\")\n",
    "ax.set_ylabel(\"Incidents\")\n",
    "ax.set_title(\"Incidents by Number of Engines\")\n",
    "plt.show()"
   ]
  },
  {
   "cell_type": "code",
   "execution_count": 161,
   "metadata": {},
   "outputs": [
    {
     "data": {
      "text/plain": [
       "Reciprocating      22517\n",
       "Turbo Prop          2879\n",
       "Turbo Fan           2378\n",
       "Turbo Shaft         2076\n",
       "Unknown              686\n",
       "Turbo Jet            607\n",
       "Geared Turbofan       12\n",
       "Electric               3\n",
       "UNK                    1\n",
       "Name: Engine.Type, dtype: int64"
      ]
     },
     "execution_count": 161,
     "metadata": {},
     "output_type": "execute_result"
    }
   ],
   "source": [
    "data['Engine.Type'].value_counts()"
   ]
  },
  {
   "cell_type": "markdown",
   "metadata": {},
   "source": []
  },
  {
   "cell_type": "code",
   "execution_count": 226,
   "metadata": {},
   "outputs": [],
   "source": [
    "data.drop(data[data['Engine.Type'].isin(['Geared Turbofan', 'Electric', 'UNK'])].index, inplace=True)"
   ]
  },
  {
   "cell_type": "code",
   "execution_count": 227,
   "metadata": {},
   "outputs": [
    {
     "data": {
      "image/png": "[encoded data removed]",
      "text/plain": [
       "<Figure size 864x432 with 1 Axes>"
      ]
     },
     "metadata": {
      "needs_background": "light"
     },
     "output_type": "display_data"
    }
   ],
   "source": [
    "fig, ax = plt.subplots(figsize=(12, 6))\n",
    "plt.hist(data['Engine.Type'], bins=7, edgecolor='black')\n",
    "ax.set_xlabel(\"Engine Type\")\n",
    "ax.set_ylabel(\"Incidents\")\n",
    "ax.set_title(\"Incidents by Engine Type\")\n",
    "plt.show()"
   ]
  },
  {
   "cell_type": "code",
   "execution_count": 228,
   "metadata": {},
   "outputs": [],
   "source": [
    "safest_aircraft = data[data['Number.of.Engines'] != 1.0]"
   ]
  },
  {
   "cell_type": "code",
   "execution_count": 119,
   "metadata": {},
   "outputs": [
    {
     "name": "stdout",
     "output_type": "stream",
     "text": [
      "<class 'pandas.core.frame.DataFrame'>\n",
      "Int64Index: 13818 entries, 5 to 90344\n",
      "Data columns (total 14 columns):\n",
      " #   Column                  Non-Null Count  Dtype         \n",
      "---  ------                  --------------  -----         \n",
      " 0   Event.Date              12359 non-null  object        \n",
      " 1   Injury.Severity         11475 non-null  object        \n",
      " 2   Aircraft.damage         9886 non-null   object        \n",
      " 3   Make                    12314 non-null  object        \n",
      " 4   Model                   12302 non-null  object        \n",
      " 5   Number.of.Engines       8463 non-null   float64       \n",
      " 6   Engine.Type             8938 non-null   object        \n",
      " 7   Purpose.of.flight       7748 non-null   object        \n",
      " 8   Total.Fatal.Injuries    10627 non-null  float64       \n",
      " 9   Total.Serious.Injuries  10385 non-null  float64       \n",
      " 10  Total.Minor.Injuries    10282 non-null  float64       \n",
      " 11  Total.Uninjured         11409 non-null  float64       \n",
      " 12  Weather.Condition       9354 non-null   object        \n",
      " 13  Event Date              12359 non-null  datetime64[ns]\n",
      "dtypes: datetime64[ns](1), float64(5), object(8)\n",
      "memory usage: 1.6+ MB\n"
     ]
    }
   ],
   "source": [
    "safest_aircraft.info()"
   ]
  },
  {
   "cell_type": "code",
   "execution_count": 164,
   "metadata": {},
   "outputs": [
    {
     "data": {
      "text/plain": [
       "boeing                         2341\n",
       "cessna                         1988\n",
       "piper                          1460\n",
       "beech                          1374\n",
       "mcdonnell douglas               486\n",
       "                               ... \n",
       "aficionado                        1\n",
       "md helicopters                    1\n",
       "stearman                          1\n",
       "indonesian aerospace              1\n",
       "aerostar international inc.       1\n",
       "Name: Make, Length: 435, dtype: int64"
      ]
     },
     "execution_count": 164,
     "metadata": {},
     "output_type": "execute_result"
    }
   ],
   "source": [
    "safest_aircraft['Make'].value_counts()"
   ]
  },
  {
   "cell_type": "code",
   "execution_count": 229,
   "metadata": {},
   "outputs": [],
   "source": [
    "safest_aircraft = safest_aircraft[safest_aircraft['Engine.Type'] != 'Reciprocating']"
   ]
  },
  {
   "cell_type": "code",
   "execution_count": 166,
   "metadata": {},
   "outputs": [
    {
     "name": "stdout",
     "output_type": "stream",
     "text": [
      "<class 'pandas.core.frame.DataFrame'>\n",
      "Int64Index: 10451 entries, 5 to 90344\n",
      "Data columns (total 14 columns):\n",
      " #   Column                  Non-Null Count  Dtype         \n",
      "---  ------                  --------------  -----         \n",
      " 0   Event.Date              8992 non-null   object        \n",
      " 1   Injury.Severity         8113 non-null   object        \n",
      " 2   Aircraft.damage         6568 non-null   object        \n",
      " 3   Make                    8947 non-null   object        \n",
      " 4   Model                   8935 non-null   object        \n",
      " 5   Number.of.Engines       5248 non-null   float64       \n",
      " 6   Engine.Type             5571 non-null   object        \n",
      " 7   Purpose.of.flight       4676 non-null   object        \n",
      " 8   Total.Fatal.Injuries    7567 non-null   float64       \n",
      " 9   Total.Serious.Injuries  7392 non-null   float64       \n",
      " 10  Total.Minor.Injuries    7297 non-null   float64       \n",
      " 11  Total.Uninjured         8218 non-null   float64       \n",
      " 12  Weather.Condition       6084 non-null   object        \n",
      " 13  Event Date              8992 non-null   datetime64[ns]\n",
      "dtypes: datetime64[ns](1), float64(5), object(8)\n",
      "memory usage: 1.2+ MB\n"
     ]
    }
   ],
   "source": [
    "safest_aircraft.info()"
   ]
  },
  {
   "cell_type": "code",
   "execution_count": 167,
   "metadata": {},
   "outputs": [
    {
     "data": {
      "text/plain": [
       "boeing                         2334\n",
       "cessna                          952\n",
       "beech                           676\n",
       "mcdonnell douglas               484\n",
       "piper                           389\n",
       "                               ... \n",
       "aero vodochody                    1\n",
       "zenair                            1\n",
       "rockwell commander                1\n",
       "hawker siddely                    1\n",
       "aerostar international inc.       1\n",
       "Name: Make, Length: 389, dtype: int64"
      ]
     },
     "execution_count": 167,
     "metadata": {},
     "output_type": "execute_result"
    }
   ],
   "source": [
    "safest_aircraft['Make'].value_counts()"
   ]
  },
  {
   "cell_type": "code",
   "execution_count": 169,
   "metadata": {},
   "outputs": [
    {
     "data": {
      "text/plain": [
       "Substantial    3118\n",
       "Destroyed      1740\n",
       "Minor          1659\n",
       "Unknown          51\n",
       "Name: Aircraft.damage, dtype: int64"
      ]
     },
     "execution_count": 169,
     "metadata": {},
     "output_type": "execute_result"
    }
   ],
   "source": [
    "safest_aircraft['Aircraft.damage'].value_counts()"
   ]
  },
  {
   "cell_type": "code",
   "execution_count": 230,
   "metadata": {},
   "outputs": [],
   "source": [
    "safest_aircraft.drop(safest_aircraft[safest_aircraft['Aircraft.damage'].isin(['Substantial', 'Destroyed'])].index, inplace=True)"
   ]
  },
  {
   "cell_type": "code",
   "execution_count": 231,
   "metadata": {},
   "outputs": [
    {
     "name": "stdout",
     "output_type": "stream",
     "text": [
      "<class 'pandas.core.frame.DataFrame'>\n",
      "Int64Index: 5581 entries, 79 to 90344\n",
      "Data columns (total 14 columns):\n",
      " #   Column                  Non-Null Count  Dtype         \n",
      "---  ------                  --------------  -----         \n",
      " 0   Event.Date              4122 non-null   object        \n",
      " 1   Injury.Severity         3412 non-null   object        \n",
      " 2   Aircraft.damage         1709 non-null   object        \n",
      " 3   Make                    4094 non-null   object        \n",
      " 4   Model                   4090 non-null   object        \n",
      " 5   Number.of.Engines       2585 non-null   float64       \n",
      " 6   Engine.Type             2556 non-null   object        \n",
      " 7   Purpose.of.flight       1747 non-null   object        \n",
      " 8   Total.Fatal.Injuries    3440 non-null   float64       \n",
      " 9   Total.Serious.Injuries  3564 non-null   float64       \n",
      " 10  Total.Minor.Injuries    3483 non-null   float64       \n",
      " 11  Total.Uninjured         3985 non-null   float64       \n",
      " 12  Weather.Condition       2509 non-null   object        \n",
      " 13  Event Date              4122 non-null   datetime64[ns]\n",
      "dtypes: datetime64[ns](1), float64(5), object(8)\n",
      "memory usage: 654.0+ KB\n"
     ]
    }
   ],
   "source": [
    "safest_aircraft.info()"
   ]
  },
  {
   "cell_type": "code",
   "execution_count": 232,
   "metadata": {},
   "outputs": [],
   "source": [
    "top_5_makes = safest_aircraft['Make'].value_counts().nlargest(3).index"
   ]
  },
  {
   "cell_type": "code",
   "execution_count": 233,
   "metadata": {},
   "outputs": [
    {
     "name": "stdout",
     "output_type": "stream",
     "text": [
      "       Event.Date Injury.Severity Aircraft.damage    Make      Model  \\\n",
      "320    1982-02-15        Incident           Minor  boeing   B737-2H4   \n",
      "351    1982-02-19        Incident             NaN  boeing  B-727-200   \n",
      "506    1982-03-08        Incident             NaN  boeing   707-131B   \n",
      "796    1982-04-09        Incident           Minor  boeing    727-200   \n",
      "1834   1982-07-05        Incident           Minor  boeing    727-233   \n",
      "...           ...             ...             ...     ...        ...   \n",
      "90285  2022-11-26       Non-Fatal             NaN  boeing    737-800   \n",
      "90308  2022-12-05             NaN             NaN  boeing        737   \n",
      "90310  2022-12-05       Non-Fatal             NaN  boeing    737-800   \n",
      "90314  2022-12-08         Serious             NaN  boeing    767-322   \n",
      "90338  2022-12-18             NaN             NaN  airbus   A330-243   \n",
      "\n",
      "       Number.of.Engines Engine.Type Purpose.of.flight  Total.Fatal.Injuries  \\\n",
      "320                  2.0   Turbo Jet           Unknown                   0.0   \n",
      "351                  3.0   Turbo Jet               NaN                   NaN   \n",
      "506                  4.0   Turbo Fan           Unknown                   1.0   \n",
      "796                  3.0   Turbo Fan           Unknown                   0.0   \n",
      "1834                 3.0   Turbo Fan               NaN                   NaN   \n",
      "...                  ...         ...               ...                   ...   \n",
      "90285                NaN         NaN               NaN                   0.0   \n",
      "90308                NaN         NaN               NaN                   0.0   \n",
      "90310                NaN         NaN               NaN                   0.0   \n",
      "90314                NaN         NaN               NaN                   0.0   \n",
      "90338                NaN         NaN               NaN                   0.0   \n",
      "\n",
      "       Total.Serious.Injuries  Total.Minor.Injuries  Total.Uninjured  \\\n",
      "320                       0.0                   0.0            119.0   \n",
      "351                       NaN                   NaN             83.0   \n",
      "506                       0.0                   0.0              0.0   \n",
      "796                       0.0                   0.0            108.0   \n",
      "1834                      NaN                   NaN             74.0   \n",
      "...                       ...                   ...              ...   \n",
      "90285                     0.0                   0.0            186.0   \n",
      "90308                     0.0                   0.0              0.0   \n",
      "90310                     0.0                   0.0            102.0   \n",
      "90314                     3.0                   1.0            175.0   \n",
      "90338                     0.0                   0.0              0.0   \n",
      "\n",
      "      Weather.Condition Event Date  \n",
      "320                 IMC 1982-02-15  \n",
      "351                 IMC 1982-02-19  \n",
      "506                 VMC 1982-03-08  \n",
      "796                 IMC 1982-04-09  \n",
      "1834                VMC 1982-07-05  \n",
      "...                 ...        ...  \n",
      "90285               NaN 2022-11-26  \n",
      "90308               NaN 2022-12-05  \n",
      "90310               NaN 2022-12-05  \n",
      "90314               NaN 2022-12-08  \n",
      "90338               NaN 2022-12-18  \n",
      "\n",
      "[2330 rows x 14 columns]\n"
     ]
    }
   ],
   "source": [
    "safest_aircraft = safest_aircraft[safest_aircraft['Make'].isin(top_5_makes)]\n",
    "print (safest_aircraft)"
   ]
  },
  {
   "cell_type": "code",
   "execution_count": 234,
   "metadata": {},
   "outputs": [
    {
     "name": "stdout",
     "output_type": "stream",
     "text": [
      "<class 'pandas.core.frame.DataFrame'>\n",
      "Int64Index: 2330 entries, 320 to 90338\n",
      "Data columns (total 14 columns):\n",
      " #   Column                  Non-Null Count  Dtype         \n",
      "---  ------                  --------------  -----         \n",
      " 0   Event.Date              2330 non-null   object        \n",
      " 1   Injury.Severity         1799 non-null   object        \n",
      " 2   Aircraft.damage         915 non-null    object        \n",
      " 3   Make                    2330 non-null   object        \n",
      " 4   Model                   2326 non-null   object        \n",
      " 5   Number.of.Engines       1441 non-null   float64       \n",
      " 6   Engine.Type             1348 non-null   object        \n",
      " 7   Purpose.of.flight       814 non-null    object        \n",
      " 8   Total.Fatal.Injuries    1960 non-null   float64       \n",
      " 9   Total.Serious.Injuries  2037 non-null   float64       \n",
      " 10  Total.Minor.Injuries    1996 non-null   float64       \n",
      " 11  Total.Uninjured         2237 non-null   float64       \n",
      " 12  Weather.Condition       1275 non-null   object        \n",
      " 13  Event Date              2330 non-null   datetime64[ns]\n",
      "dtypes: datetime64[ns](1), float64(5), object(8)\n",
      "memory usage: 273.0+ KB\n"
     ]
    }
   ],
   "source": [
    "safest_aircraft.info()"
   ]
  },
  {
   "cell_type": "code",
   "execution_count": 235,
   "metadata": {},
   "outputs": [
    {
     "data": {
      "text/html": [
       "<div>\n",
       "<style scoped>\n",
       "    .dataframe tbody tr th:only-of-type {\n",
       "        vertical-align: middle;\n",
       "    }\n",
       "\n",
       "    .dataframe tbody tr th {\n",
       "        vertical-align: top;\n",
       "    }\n",
       "\n",
       "    .dataframe thead th {\n",
       "        text-align: right;\n",
       "    }\n",
       "</style>\n",
       "<table border=\"1\" class=\"dataframe\">\n",
       "  <thead>\n",
       "    <tr style=\"text-align: right;\">\n",
       "      <th></th>\n",
       "      <th>Event.Date</th>\n",
       "      <th>Injury.Severity</th>\n",
       "      <th>Aircraft.damage</th>\n",
       "      <th>Make</th>\n",
       "      <th>Model</th>\n",
       "      <th>Number.of.Engines</th>\n",
       "      <th>Engine.Type</th>\n",
       "      <th>Purpose.of.flight</th>\n",
       "      <th>Total.Fatal.Injuries</th>\n",
       "      <th>Total.Serious.Injuries</th>\n",
       "      <th>Total.Minor.Injuries</th>\n",
       "      <th>Total.Uninjured</th>\n",
       "      <th>Weather.Condition</th>\n",
       "      <th>Event Date</th>\n",
       "    </tr>\n",
       "  </thead>\n",
       "  <tbody>\n",
       "    <tr>\n",
       "      <th>320</th>\n",
       "      <td>1982-02-15</td>\n",
       "      <td>Incident</td>\n",
       "      <td>Minor</td>\n",
       "      <td>boeing</td>\n",
       "      <td>B737-2H4</td>\n",
       "      <td>2.0</td>\n",
       "      <td>Turbo Jet</td>\n",
       "      <td>Unknown</td>\n",
       "      <td>0.0</td>\n",
       "      <td>0.0</td>\n",
       "      <td>0.0</td>\n",
       "      <td>119.0</td>\n",
       "      <td>IMC</td>\n",
       "      <td>1982-02-15</td>\n",
       "    </tr>\n",
       "    <tr>\n",
       "      <th>351</th>\n",
       "      <td>1982-02-19</td>\n",
       "      <td>Incident</td>\n",
       "      <td>NaN</td>\n",
       "      <td>boeing</td>\n",
       "      <td>B-727-200</td>\n",
       "      <td>3.0</td>\n",
       "      <td>Turbo Jet</td>\n",
       "      <td>NaN</td>\n",
       "      <td>NaN</td>\n",
       "      <td>NaN</td>\n",
       "      <td>NaN</td>\n",
       "      <td>83.0</td>\n",
       "      <td>IMC</td>\n",
       "      <td>1982-02-19</td>\n",
       "    </tr>\n",
       "    <tr>\n",
       "      <th>506</th>\n",
       "      <td>1982-03-08</td>\n",
       "      <td>Incident</td>\n",
       "      <td>NaN</td>\n",
       "      <td>boeing</td>\n",
       "      <td>707-131B</td>\n",
       "      <td>4.0</td>\n",
       "      <td>Turbo Fan</td>\n",
       "      <td>Unknown</td>\n",
       "      <td>1.0</td>\n",
       "      <td>0.0</td>\n",
       "      <td>0.0</td>\n",
       "      <td>0.0</td>\n",
       "      <td>VMC</td>\n",
       "      <td>1982-03-08</td>\n",
       "    </tr>\n",
       "    <tr>\n",
       "      <th>796</th>\n",
       "      <td>1982-04-09</td>\n",
       "      <td>Incident</td>\n",
       "      <td>Minor</td>\n",
       "      <td>boeing</td>\n",
       "      <td>727-200</td>\n",
       "      <td>3.0</td>\n",
       "      <td>Turbo Fan</td>\n",
       "      <td>Unknown</td>\n",
       "      <td>0.0</td>\n",
       "      <td>0.0</td>\n",
       "      <td>0.0</td>\n",
       "      <td>108.0</td>\n",
       "      <td>IMC</td>\n",
       "      <td>1982-04-09</td>\n",
       "    </tr>\n",
       "    <tr>\n",
       "      <th>1834</th>\n",
       "      <td>1982-07-05</td>\n",
       "      <td>Incident</td>\n",
       "      <td>Minor</td>\n",
       "      <td>boeing</td>\n",
       "      <td>727-233</td>\n",
       "      <td>3.0</td>\n",
       "      <td>Turbo Fan</td>\n",
       "      <td>NaN</td>\n",
       "      <td>NaN</td>\n",
       "      <td>NaN</td>\n",
       "      <td>NaN</td>\n",
       "      <td>74.0</td>\n",
       "      <td>VMC</td>\n",
       "      <td>1982-07-05</td>\n",
       "    </tr>\n",
       "  </tbody>\n",
       "</table>\n",
       "</div>"
      ],
      "text/plain": [
       "      Event.Date Injury.Severity Aircraft.damage    Make      Model  \\\n",
       "320   1982-02-15        Incident           Minor  boeing   B737-2H4   \n",
       "351   1982-02-19        Incident             NaN  boeing  B-727-200   \n",
       "506   1982-03-08        Incident             NaN  boeing   707-131B   \n",
       "796   1982-04-09        Incident           Minor  boeing    727-200   \n",
       "1834  1982-07-05        Incident           Minor  boeing    727-233   \n",
       "\n",
       "      Number.of.Engines Engine.Type Purpose.of.flight  Total.Fatal.Injuries  \\\n",
       "320                 2.0   Turbo Jet           Unknown                   0.0   \n",
       "351                 3.0   Turbo Jet               NaN                   NaN   \n",
       "506                 4.0   Turbo Fan           Unknown                   1.0   \n",
       "796                 3.0   Turbo Fan           Unknown                   0.0   \n",
       "1834                3.0   Turbo Fan               NaN                   NaN   \n",
       "\n",
       "      Total.Serious.Injuries  Total.Minor.Injuries  Total.Uninjured  \\\n",
       "320                      0.0                   0.0            119.0   \n",
       "351                      NaN                   NaN             83.0   \n",
       "506                      0.0                   0.0              0.0   \n",
       "796                      0.0                   0.0            108.0   \n",
       "1834                     NaN                   NaN             74.0   \n",
       "\n",
       "     Weather.Condition Event Date  \n",
       "320                IMC 1982-02-15  \n",
       "351                IMC 1982-02-19  \n",
       "506                VMC 1982-03-08  \n",
       "796                IMC 1982-04-09  \n",
       "1834               VMC 1982-07-05  "
      ]
     },
     "execution_count": 235,
     "metadata": {},
     "output_type": "execute_result"
    }
   ],
   "source": [
    "safest_aircraft.head()"
   ]
  },
  {
   "cell_type": "code",
   "execution_count": 236,
   "metadata": {},
   "outputs": [
    {
     "data": {
      "image/png": "[encoded data removed]",
      "text/plain": [
       "<Figure size 864x432 with 1 Axes>"
      ]
     },
     "metadata": {
      "needs_background": "light"
     },
     "output_type": "display_data"
    }
   ],
   "source": [
    "fig, ax = plt.subplots(figsize=(12, 6))\n",
    "plt.hist(safest_aircraft['Make'], bins=3, edgecolor='black')\n",
    "ax.set_xlabel(\"Aircraft Make\")\n",
    "ax.set_ylabel(\"Incidents\")\n",
    "ax.set_title(\"Incidents by Aircraft Make\")\n",
    "plt.show()"
   ]
  },
  {
   "cell_type": "code",
   "execution_count": null,
   "metadata": {},
   "outputs": [],
   "source": []
  },
  {
   "cell_type": "markdown",
   "metadata": {},
   "source": [
    "# Conclusions"
   ]
  },
  {
   "cell_type": "markdown",
   "metadata": {},
   "source": [
    "1) Aircraft with multiple engines are more reliable.  Overwhelmingly, aircraft involved in incidents are single engine aircraft.\n",
    "2) Turbo fan engines appear most reliable, though avoiding reciprocating engines seems most crucial when it comes to engine type.\n",
    "3) Boeing and Airbus made aircraft are safest due to their overall reliability."
   ]
  },
  {
   "cell_type": "markdown",
   "metadata": {},
   "source": [
    "## Limitations"
   ]
  },
  {
   "cell_type": "markdown",
   "metadata": {},
   "source": [
    "The dataset outlines incidents only and does not include information on the total number of aircraft or total flights, leaving room for more precision using a more complete dataset."
   ]
  },
  {
   "cell_type": "markdown",
   "metadata": {},
   "source": [
    "## Recommendations"
   ]
  },
  {
   "cell_type": "raw",
   "metadata": {},
   "source": [
    "1) Aircraft with multiple engines are recommended, as single engine aircraft are overwhelmingly involved in more incidents.  2) Non-reciprocating engines are recommended, as reciprocating engines are involved in more incidents.  3) Boeing and Airbus made aircraft are specifically recommmended for safety."
   ]
  },
  {
   "cell_type": "markdown",
   "metadata": {},
   "source": [
    "## Next Steps"
   ]
  },
  {
   "cell_type": "markdown",
   "metadata": {},
   "source": [
    "Evaluating cost and other variables will be crucial, such as ease of service and repair, as well as ability to modify for business purposes, since these considerations will factor into choosing aircraft to purchase."
   ]
  },
  {
   "cell_type": "code",
   "execution_count": null,
   "metadata": {},
   "outputs": [],
   "source": []
  }
 ],
 "metadata": {
  "kernelspec": {
   "display_name": "Python (learn-env)",
   "language": "python",
   "name": "learn-env"
  },
  "language_info": {
   "codemirror_mode": {
    "name": "ipython",
    "version": 3
   },
   "file_extension": ".py",
   "mimetype": "text/x-python",
   "name": "python",
   "nbconvert_exporter": "python",
   "pygments_lexer": "ipython3",
   "version": "3.8.5"
  }
 },
 "nbformat": 4,
 "nbformat_minor": 4
}
